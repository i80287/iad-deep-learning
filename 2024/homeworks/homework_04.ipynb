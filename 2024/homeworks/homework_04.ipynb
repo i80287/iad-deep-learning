{
 "cells": [
  {
   "cell_type": "markdown",
   "metadata": {
    "id": "N0MMALtdLU6F"
   },
   "source": [
    "<center>\n",
    "<img src=\"https://raw.githubusercontent.com/dvgodoy/PyTorch101_ODSC_Europe2020/master/images/linear_dogs.jpg\" width=\"800\">\n",
    "\n",
    "# Основы глубинного обучения: домашнее задание 4\n",
    "</center>"
   ]
  },
  {
   "cell_type": "markdown",
   "metadata": {
    "id": "Lp2Uf8PGM_zP"
   },
   "source": [
    "**ФИО:**\n",
    "\n",
    "**Забавный факт о себе:**"
   ]
  },
  {
   "cell_type": "markdown",
   "metadata": {
    "id": "W2LjTioKM_zP"
   },
   "source": [
    "## Общая информация\n",
    "\n",
    "__Дата выдачи:__ 26.11.2024\n",
    "\n",
    "__Мягкий дедлайн:__ 23:59MSK 10.12.2024\n",
    "\n",
    "__Жесткий дедлайн:__ 23:59MSK 13.12.2024"
   ]
  },
  {
   "cell_type": "markdown",
   "metadata": {
    "id": "pGGDD519LWaa"
   },
   "source": [
    "## Оценивание и штрафы\n",
    "\n",
    "Каждая из задач имеет определенную «стоимость» (указана в скобках около задачи). Максимально допустимая оценка за работу — 10 баллов + 2 бонусных балла.\n",
    "\n",
    "**Дисклеймер:** Задание выполняется самостоятельно. «Похожие» решения считаются плагиатом и все задействованные студенты (в том числе те, у кого списали) не могут получить за него больше 0 баллов. Если вы нашли решение какого-то из заданий (или его часть) в открытом источнике, необходимо указать ссылку на этот источник (скорее всего вы будете не единственным, кто это нашел, поэтому чтобы исключить подозрение в плагиате, необходима ссылка на источник). Также помните, что простое копирование чужого кода не является самостоятельной работой."
   ]
  },
  {
   "cell_type": "code",
   "execution_count": null,
   "metadata": {
    "id": "e88B7C_7M_zQ"
   },
   "outputs": [],
   "source": [
    "import pandas as pd\n",
    "import numpy as np\n",
    "\n",
    "import matplotlib.pyplot as plt\n",
    "import seaborn as sns\n",
    "\n",
    "from tqdm.notebook import tqdm"
   ]
  },
  {
   "cell_type": "code",
   "execution_count": null,
   "metadata": {
    "colab": {
     "base_uri": "https://localhost:8080/"
    },
    "id": "nqB7HlFIM_zR",
    "outputId": "7c96af10-5910-4b34-ed0b-72c1df7b5803"
   },
   "outputs": [],
   "source": [
    "import torch\n",
    "device = torch.device('cuda:0' if torch.cuda.is_available() else 'cpu')\n",
    "device"
   ]
  },
  {
   "cell_type": "markdown",
   "metadata": {
    "id": "GkjGmtWoM_zR"
   },
   "source": [
    "# Описание данных\n",
    "\n",
    "Данные можно [скачать с гугл-диска.](https://drive.google.com/drive/folders/11oCcLplWtp_qm-WuEbfCFP_Mz5K_z3ps?usp=sharing) Если вы делаете задание в колабе, то строчки ниже сами скачают вам данные.\n",
    "\n"
   ]
  },
  {
   "cell_type": "code",
   "execution_count": null,
   "metadata": {
    "colab": {
     "base_uri": "https://localhost:8080/"
    },
    "id": "e78uct9mO6ik",
    "outputId": "6ce2c30f-cd22-4c6e-ff37-90d99d5b3c82"
   },
   "outputs": [],
   "source": [
    "import gdown\n",
    "\n",
    "url = \"https://drive.google.com/drive/folders/11oCcLplWtp_qm-WuEbfCFP_Mz5K_z3ps?usp=sharing\"\n",
    "gdown.download_folder(url, quiet=True, use_cookies=False)"
   ]
  },
  {
   "cell_type": "markdown",
   "metadata": {
    "id": "fNAzGcglM_zS"
   },
   "source": [
    "В таблице `ria_news.tsv`  лежат данные о новостях, вышедших на сайте РИА-НОВОСТИ с 15 марта 2018 года по 31 декабря 2018 года.\n",
    "\n",
    "- `href` - уникальный идентификатор новости (ссылка на неё)\n",
    "- `date` - дата публикации новости\n",
    "- `time` - время публикации новости\n",
    "- `title` - заголовок новости\n",
    "- `snippet` - краткое описание новости\n",
    "- `text` - текст новости\n",
    "- `category` - категория новости\n",
    "- `keywords` - ключевые слова (подкатегории новости)\n",
    "- `shows` - счётчик с числом просмотров новости на сайте (на момент парсинга)"
   ]
  },
  {
   "cell_type": "code",
   "execution_count": null,
   "metadata": {
    "colab": {
     "base_uri": "https://localhost:8080/",
     "height": 450
    },
    "id": "U0-iSeRLM_zS",
    "outputId": "8eb3197b-d587-4ee9-f824-b19165342a57"
   },
   "outputs": [],
   "source": [
    "df_ria = pd.read_csv('news_data/ria_news.tsv', sep='\\t')\n",
    "df_ria = df_ria[~df_ria.tags.isnull()]\n",
    "print(df_ria.shape)\n",
    "df_ria.head()"
   ]
  },
  {
   "cell_type": "markdown",
   "metadata": {
    "id": "smOrAVujM_zS"
   },
   "source": [
    "Многие новостные агенства поддерживают странички в социальных сетях. Они постят туда самые сочные сюжеты. В таблице `vk_news.tsv` лежат данные о новостях, которые РИА запостили ВКонтакте в период времени с  `2017-09-29 01:28:55` по `2019-02-01 23:13:17`.\n",
    "\n",
    "- `id` - уникальный идентификатор поста\n",
    "- `href` - ссылка на сайт (если она была указана в посте)\n",
    "- `datetime` - дата и время публикации новости\n",
    "- `title` - заголовок новости\n",
    "- `text` - текст новости в социальной сети\n",
    "- `likes` - число лайков под постом\n",
    "- `comments` - число комментариев под постом"
   ]
  },
  {
   "cell_type": "code",
   "execution_count": null,
   "metadata": {
    "colab": {
     "base_uri": "https://localhost:8080/",
     "height": 225
    },
    "id": "FFZHXKukM_zS",
    "outputId": "7da23095-710b-49c4-fa8c-f73a1294d4c7"
   },
   "outputs": [],
   "source": [
    "df_vk = pd.read_csv('news_data/vk_news.tsv', sep='\\t')\n",
    "df_vk['snippet'] = df_vk['text']\n",
    "df_vk.drop('text', axis=1, inplace=True)\n",
    "print(df_vk.shape)\n",
    "df_vk.head()"
   ]
  },
  {
   "cell_type": "markdown",
   "metadata": {
    "id": "HFaQtcOVM_zT"
   },
   "source": [
    "В таблице `vk_comments.tsv` лежат комментарии к новостям.\n",
    "\n",
    "- `id` - уникальный идентификатор комментария\n",
    "- `post_id` - идентификатор новости, под которой был оставлен комментарий\n",
    "- `datetime` - дата и время, когда был оставлен комментарий\n",
    "- `text` - текст комментария\n",
    "- `likes` - число лайков под комментарием"
   ]
  },
  {
   "cell_type": "code",
   "execution_count": null,
   "metadata": {
    "colab": {
     "base_uri": "https://localhost:8080/",
     "height": 262
    },
    "id": "HBJvrG6wM_zT",
    "outputId": "c7b02288-fa2d-4e9d-a7bc-803b0404b71f"
   },
   "outputs": [],
   "source": [
    "df_comments = pd.read_csv('news_data/vk_comments.tsv', sep='\\t')\n",
    "df_comments = df_comments[~df_comments.text.isnull()]\n",
    "print(df_comments.shape)\n",
    "df_comments.head()"
   ]
  },
  {
   "cell_type": "markdown",
   "metadata": {
    "id": "58hpgVLvM_zT"
   },
   "source": [
    "# А что надо сделать то?\n",
    "\n",
    "В тетрадке вам предстоит сделать следующие шаги:\n",
    "\n",
    "1. Обучить нейросеть предсказывать категорию новости\n",
    "2. Построить предсказания для тех новостей, где мы ничего не знаем о категории\n",
    "3. Использовать уже обученный для сентимент-анализа классификатор из библиотеки `hugging face` чтобы предсказать эмоциональную окраску каждого комментария\n",
    "4. Провести аналитику по новостям, а именно построите топы из самых позитивных и негативных категорий и новостей\n",
    "\n",
    "Для первого шага вам будет дан бэйзлайн. Если вы его прогоните, у вас получится базовая модель, которая даст некоторое качество решения задачи. Вам надо будет выяснить, насколько это качество оказалось хорошим, а затем внести в код некоторые улучшения.\n",
    "\n"
   ]
  },
  {
   "cell_type": "markdown",
   "metadata": {
    "id": "hdb5XYa_M_zT"
   },
   "source": [
    "## Часть 1: категоризация новостей (5 баллов + 1.8 бонусных)\n",
    "\n",
    "Каждой новости в соотвествие поставлены ключевые слова. Будем считать, что эти ключевые слова — тематики новости. Нужно научиться предсказывать тематики по тексту новости. Готовые тематики у нас есть только по новостям с сайта. Они за 2018 год. По новостям из ВКонтакте у нас тематик нет. Мы собираемся их предсказать.\n",
    "\n",
    "Новости, опубликованные ВКонтакте, отличаются от новостей с сайта тем, что у них есть только титул и короткое описание. Странно будет обучать нейросеть на длинных текстах, а потом использовать её на коротких описаниях. Мы не будем так делать. Мы попробуем обучить базовый вариант нейронной сети только на заголовках новостей. Все, кто захочет получить бонусные баллы, смогут попробовать добавить в нейросеть сниппеты (так назыают короткие описания новостей)."
   ]
  },
  {
   "cell_type": "markdown",
   "metadata": {
    "id": "NmGxSLP-M_zT"
   },
   "source": [
    "## 1.1 Подготовка таргета\n",
    "\n",
    "Поработаем с таргетом. Мы будем предсказывать переменную `tags`. Давайте выясним скоько уникальных тегов существует."
   ]
  },
  {
   "cell_type": "code",
   "execution_count": null,
   "metadata": {
    "colab": {
     "base_uri": "https://localhost:8080/"
    },
    "id": "NZDxrSvkM_zT",
    "outputId": "f943777c-de05-437d-9cb0-27c24cb8b2f6"
   },
   "outputs": [],
   "source": [
    "from collections import Counter\n",
    "\n",
    "# удалим все лишние пробелы и сделаем lowercase\n",
    "df_ria['tags'] = (\n",
    "    df_ria.tags.\n",
    "    apply(lambda w: ','.join([item.strip() for item in  w.lower().split(',')]))\n",
    ")\n",
    "\n",
    "tags = ','.join(list(df_ria.tags.values))\n",
    "tags_cnt = Counter(tags.split(','))\n",
    "\n",
    "print(len(tags_cnt))\n",
    "tags_cnt.most_common()[-20:]"
   ]
  },
  {
   "cell_type": "markdown",
   "metadata": {
    "id": "5Wv68z36M_zT"
   },
   "source": [
    "Всего в выборке есть порядка 13 000 тэгов. Многие встречаются всего по разу. Давайте оставим в выборке только те тэги, которые встречаются более 30 раз."
   ]
  },
  {
   "cell_type": "code",
   "execution_count": null,
   "metadata": {
    "colab": {
     "base_uri": "https://localhost:8080/"
    },
    "id": "eA6H34iKM_zU",
    "outputId": "f5b55784-1052-455a-e961-a0fa85bd3932"
   },
   "outputs": [],
   "source": [
    "target_tags = {tag for tag,cnt in tags_cnt.most_common() if cnt > 30}\n",
    "len(target_tags)"
   ]
  },
  {
   "cell_type": "markdown",
   "metadata": {
    "id": "RLrQSyCDM_zU"
   },
   "source": [
    "Закодируем теги для OHE."
   ]
  },
  {
   "cell_type": "code",
   "execution_count": null,
   "metadata": {
    "id": "J2fKnLmTM_zU"
   },
   "outputs": [],
   "source": [
    "tag2idx = dict(zip(target_tags, range(len(target_tags))))\n",
    "idx2tag = {jtem: item for item,jtem in tag2idx.items()}"
   ]
  },
  {
   "cell_type": "markdown",
   "metadata": {
    "id": "8QDNftQqM_zU"
   },
   "source": [
    "Почистим таргет от лишних тэгов."
   ]
  },
  {
   "cell_type": "code",
   "execution_count": null,
   "metadata": {
    "colab": {
     "base_uri": "https://localhost:8080/"
    },
    "id": "9pqA60YiM_zU",
    "outputId": "af3ccfd7-ae21-43fd-ac89-926cc4b36867"
   },
   "outputs": [],
   "source": [
    "df_ria['target_tags'] = (\n",
    "    df_ria.tags.\n",
    "    apply(lambda w: [tag2idx.get(item) for item in  w.split(',') if item in target_tags])\n",
    ")\n",
    "\n",
    "df_ria = df_ria[df_ria.target_tags.apply(len) > 0]\n",
    "df_ria.shape"
   ]
  },
  {
   "cell_type": "code",
   "execution_count": null,
   "metadata": {
    "colab": {
     "base_uri": "https://localhost:8080/"
    },
    "id": "y0KaYfuQM_zU",
    "outputId": "a8ddc5b6-ffeb-4697-feb8-2a4f011e05b2"
   },
   "outputs": [],
   "source": [
    "df_ria.target_tags.values[:3]"
   ]
  },
  {
   "cell_type": "markdown",
   "metadata": {
    "id": "Y-hjLFKRM_zU"
   },
   "source": [
    "## 1.2 Подготовка текстов\n",
    "\n",
    "Теперь займёмся предобработкой текстов. Приведём все слова к нижнему регистру и выбросим мусорные символы. В качестве токенов будем рассматривать отдельные слова.\n",
    "\n",
    "Напомню, что мы пока что решили работать только с названиями статей. Поэтому вся предобработка применяется исключительно к ним. **Спойлер:** предобработку для сниппетов вы сделаете сами в первом же задании."
   ]
  },
  {
   "cell_type": "code",
   "execution_count": null,
   "metadata": {
    "colab": {
     "base_uri": "https://localhost:8080/"
    },
    "id": "DUEWRZWTQsHy",
    "outputId": "2fe04954-273e-441e-e29d-d689166692a8"
   },
   "outputs": [],
   "source": [
    "import nltk\n",
    "nltk.download('punkt')\n",
    "nltk.download('punkt_tab')\n",
    "nltk.download('stopwords')"
   ]
  },
  {
   "cell_type": "code",
   "execution_count": null,
   "metadata": {
    "colab": {
     "base_uri": "https://localhost:8080/"
    },
    "id": "bLHWjtkoM_zU",
    "outputId": "b31d890c-e3bc-4be5-e285-372503938fda"
   },
   "outputs": [],
   "source": [
    "import re\n",
    "from nltk.tokenize import word_tokenize\n",
    "\n",
    "def normalise_text(text):\n",
    "    text = text.lower()\n",
    "\n",
    "    # сурово регулярками выкидываем мусорные символы\n",
    "    text = re.sub('[^а-яa-z0-9 ]', '', text)\n",
    "    return text.strip()\n",
    "\n",
    "df_ria['title_clean'] = df_ria.title.apply(normalise_text)\n",
    "\n",
    "word_cnt = Counter(word_tokenize(' '.join(df_ria.title_clean.values)))\n",
    "len(word_cnt)"
   ]
  },
  {
   "cell_type": "code",
   "execution_count": null,
   "metadata": {
    "colab": {
     "base_uri": "https://localhost:8080/"
    },
    "id": "-OGzgIx-M_zV",
    "outputId": "6da55448-8b6f-4370-d3ae-abcc52db7f0d"
   },
   "outputs": [],
   "source": [
    "word_cnt.most_common()[:10]"
   ]
  },
  {
   "cell_type": "markdown",
   "metadata": {
    "id": "ydRq2i-fM_zV"
   },
   "source": [
    "Давайте почистим словарь от стоп-слов и подготовим его к использованию внутри датасета. Мы будем с помощью словаря заменять слова на индексы. Добавим в словарь несколько специальных токенов для неизвестных слов и паддингов."
   ]
  },
  {
   "cell_type": "code",
   "execution_count": null,
   "metadata": {
    "colab": {
     "base_uri": "https://localhost:8080/"
    },
    "id": "7W5X3hM2M_zV",
    "outputId": "2c1a7490-7ee6-4829-8b60-2b2a118ab172"
   },
   "outputs": [],
   "source": [
    "from nltk.corpus import stopwords\n",
    "\n",
    "stops_ru = set(stopwords.words('russian'))\n",
    "len(stops_ru)"
   ]
  },
  {
   "cell_type": "code",
   "execution_count": null,
   "metadata": {
    "id": "0h0Eq-fkM_zV"
   },
   "outputs": [],
   "source": [
    "vocabulary = {\n",
    "    \"#PAD#\": 0, \"#UNK#\": 1\n",
    "}\n",
    "\n",
    "k = 2\n",
    "for word, _ in word_cnt.most_common():\n",
    "    if word not in stops_ru:\n",
    "        vocabulary[word] = k\n",
    "        k += 1"
   ]
  },
  {
   "cell_type": "code",
   "execution_count": null,
   "metadata": {
    "colab": {
     "base_uri": "https://localhost:8080/"
    },
    "id": "xL0VgZT6M_zV",
    "outputId": "a124eeb5-4af3-4eca-c47f-346e96359a09"
   },
   "outputs": [],
   "source": [
    "len(vocabulary)"
   ]
  },
  {
   "cell_type": "markdown",
   "metadata": {
    "id": "U9NQcllLM_zV"
   },
   "source": [
    "Завернём код для создания словаря в функцию."
   ]
  },
  {
   "cell_type": "code",
   "execution_count": null,
   "metadata": {
    "id": "VAMLLbXxM_zV"
   },
   "outputs": [],
   "source": [
    "def create_vocab(text, stops_ru=stops_ru):\n",
    "\n",
    "    word_cnt = Counter(word_tokenize(text))\n",
    "    vocabulary = {\n",
    "        \"#PAD#\": 0, \"#UNK#\": 1\n",
    "    }\n",
    "\n",
    "    k = 2\n",
    "    for word, _ in word_cnt.most_common():\n",
    "        if word not in stops_ru:\n",
    "            vocabulary[word] = k\n",
    "            k += 1\n",
    "    return vocabulary"
   ]
  },
  {
   "cell_type": "markdown",
   "metadata": {
    "id": "lnYJT9BXM_zV"
   },
   "source": [
    "__[0.5 балла] Задание 1:__\n",
    "\n",
    "- Cделайте аналогичную предобработку титулов из таблички `df_vk`. Запишите получившийся результат в столбец `title_clean` по аналогии с таблицей `df_ria`.\n",
    "- Сделайте для обеих таблиц предобработку колонок со сниппетами `snippet` и запишите получившийся результат в столбец `snippet_clean`. Все пропуски заполните токеном `\"#UNKN\"`."
   ]
  },
  {
   "cell_type": "code",
   "execution_count": null,
   "metadata": {
    "id": "FTlZA9amM_zV"
   },
   "outputs": [],
   "source": [
    "# your code here\n",
    "# ヽ(♡‿♡)ノ"
   ]
  },
  {
   "cell_type": "markdown",
   "metadata": {
    "id": "WrRKg_QHM_zV"
   },
   "source": [
    "## 1.3 Поставка данных"
   ]
  },
  {
   "cell_type": "markdown",
   "metadata": {
    "id": "S2vPPWsEM_zV"
   },
   "source": [
    "Пересечение сайта и ВК по опубликованным новостям довольно маленькое. Мы обучаем модель на данных с сайта. Предсказания мы будем строить на данных из ВК. У этих данных разная природа. В ВК описание статей и заголовки короче. Модель может хорошо показать себя на данных с новостного сайта, но сильно просесть в качестве на данных из ВК.\n",
    "\n",
    "Давайте сохраним пересечение в отдельную табличку, чтобы на нём можно было понять, насколько сильно деградирует модель."
   ]
  },
  {
   "cell_type": "code",
   "execution_count": null,
   "metadata": {
    "colab": {
     "base_uri": "https://localhost:8080/"
    },
    "id": "8KjCNaTLM_zW",
    "outputId": "a0de14af-5d32-4dff-89f7-3b04a7e35271"
   },
   "outputs": [],
   "source": [
    "ria_hrefs = set(df_ria.href.values)\n",
    "vk_hrefs = set(df_vk.href.values)\n",
    "test_hrefs = (vk_hrefs & ria_hrefs)\n",
    "\n",
    "print('Размер отложенной выборки:', len(test_hrefs))\n",
    "\n",
    "df = df_ria[~df_ria.href.isin(test_hrefs)]"
   ]
  },
  {
   "cell_type": "markdown",
   "metadata": {
    "id": "FVutzHbPM_zg"
   },
   "source": [
    "По странному совпадению (я правда не знаю почему) пересечение лежит в декабре. Мы будем его использовать как тестовую выборку."
   ]
  },
  {
   "cell_type": "code",
   "execution_count": null,
   "metadata": {
    "colab": {
     "base_uri": "https://localhost:8080/"
    },
    "id": "1fGs6y6PM_zg",
    "outputId": "5a639a55-e194-4d78-bba0-f6297339f49d"
   },
   "outputs": [],
   "source": [
    "df_ria[df_ria.href.isin(test_hrefs)].date.min(), df_ria[df_ria.href.isin(test_hrefs)].date.max()"
   ]
  },
  {
   "cell_type": "markdown",
   "metadata": {
    "id": "VJ_7VGvnM_zg"
   },
   "source": [
    "Предположим, что мы делим выборку на обучающую и тестовую случайно. За один и тот же промежуток времени может выйти довольно большое число новостей с одинаковым заголовком. Давайте представим себе, что в тесте и трэйне есть много статей про одно и то же событие. Модель научилась на обучающей выборке хорошо его тегировать. Остальные события модель тегирует намного хуже. Метрики на тестовой выборке высокие. В следующем месяце СМИ перестают освещать это событие, в потоке новостей совершенно другие новости. Качество модели резко проседает.\n",
    "\n",
    "Чтобы не напороться на завышенные метрики, обычно выборку дробят на обучающую и тестовую по времени. Тогда статьи из теста будут имитировать поток новых новостей, освещающих новые события."
   ]
  },
  {
   "cell_type": "code",
   "execution_count": null,
   "metadata": {
    "colab": {
     "base_uri": "https://localhost:8080/"
    },
    "id": "WscwQXAuM_zg",
    "outputId": "0a83dd25-a157-45e9-b757-f9fdf70a56e2"
   },
   "outputs": [],
   "source": [
    "df.date.min(), df.date.max()"
   ]
  },
  {
   "cell_type": "markdown",
   "metadata": {
    "id": "bzM_6-ntM_zg"
   },
   "source": [
    "__[0.5 балла] Задание 2:__ Разбейте выборку на обучающую, валидационную и тестовую. В тест возьмите весь декабрь. В валидацию октябрь и ноябрь."
   ]
  },
  {
   "cell_type": "code",
   "execution_count": null,
   "metadata": {
    "id": "Yzr5nNIvM_zg"
   },
   "outputs": [],
   "source": [
    "# your code here\n",
    "# ♡ (´｡• ω •｡`)\n",
    "\n",
    "df_test = ...\n",
    "df_val = ...\n",
    "df_train = ..."
   ]
  },
  {
   "cell_type": "markdown",
   "metadata": {
    "id": "AlG-87v8M_zh"
   },
   "source": [
    "Сформируем отложенную выборку (пересечение ВКонтакте и РИА)."
   ]
  },
  {
   "cell_type": "code",
   "execution_count": null,
   "metadata": {
    "colab": {
     "base_uri": "https://localhost:8080/",
     "height": 206
    },
    "id": "KmBZjIx4M_zh",
    "outputId": "6b4bc36b-9d88-4182-a0b0-9d4c4314a248"
   },
   "outputs": [],
   "source": [
    "df_oob = df_vk[df_vk.href.isin(test_hrefs)][['href', 'title_clean']]\n",
    "\n",
    "df_ria_oob = df_ria[df_ria.href.isin(test_hrefs)][['href', 'target_tags']]\n",
    "df_oob = df_oob.set_index('href').join(df_ria_oob.set_index('href')).reset_index()\n",
    "df_oob.head()"
   ]
  },
  {
   "cell_type": "markdown",
   "metadata": {
    "id": "laZ8tkFjM_zh"
   },
   "source": [
    "Напишем датасет для поставки данных в нейросеть.\n"
   ]
  },
  {
   "cell_type": "code",
   "execution_count": null,
   "metadata": {
    "id": "0if_RkA_M_zh"
   },
   "outputs": [],
   "source": [
    "from torch.utils.data import Dataset\n",
    "from torch.utils.data import DataLoader\n",
    "\n",
    "class NewsDataset(Dataset):\n",
    "\n",
    "    def __init__(self, target, title, vocab, vocab_size, max_title_len, max_classes, snippet=None, max_snippet_len=None):\n",
    "\n",
    "       self.vocab = {word: idx  for word,idx in vocab.items() if idx < vocab_size}\n",
    "       self.max_classes = max_classes\n",
    "       self.y=self.target_ohe(target)\n",
    "       self.X_title = self.create_text(title, max_title_len)\n",
    "\n",
    "    def target_ohe(self, target):\n",
    "        y = torch.zeros((len(target), self.max_classes))\n",
    "        for i, t in enumerate(target):\n",
    "            y[[i]*len(t), t] = 1.0\n",
    "        return y\n",
    "\n",
    "    def create_text(self, texts, max_len):\n",
    "        result = [ ]\n",
    "        for sent in texts:\n",
    "            # {#PAD: 0, #UNKN: 1}\n",
    "            sent_tokenize = [self.vocab.get(item, 1) for item in word_tokenize(sent)]\n",
    "\n",
    "            # приводим все тексты к max_len\n",
    "            if len(sent_tokenize) >= max_len:\n",
    "                sent_tokenize = sent_tokenize[:max_len]\n",
    "            else:\n",
    "                sent_tokenize += [0] * (max_len - len(sent_tokenize))\n",
    "            result.append(sent_tokenize)\n",
    "        return torch.tensor(result, dtype=torch.int)\n",
    "\n",
    "    def __len__(self):\n",
    "        return len(self.X_title)\n",
    "\n",
    "    def __getitem__(self, idx):\n",
    "        return (self.X_title[idx, :], self.y[idx])\n"
   ]
  },
  {
   "cell_type": "markdown",
   "metadata": {
    "id": "xQMfQ1ZkM_zh"
   },
   "source": [
    "__[0.5 балла] Задание 3:__ Сейчас датасет умеет работать только с полем `title_clean`. Давайте сделаем этот датасет более многофукнциональным и добавим в него возможность добавить в обработку данных сниппет.\n",
    "\n",
    "1. Внутри датасета `snippet` надо обработать точно также как и `title`.\n",
    "2. Если `snippet=None`, датасет должен вернуть два объекта: `X_title, y`. В обратном случае датасет должен вернуть три объекта.\n",
    "\n",
    "**Важно:** Весь код ниже работает сейчас без сниппета. Он не должен развалиться от того, что сниппет в нём нигде не указан."
   ]
  },
  {
   "cell_type": "code",
   "execution_count": null,
   "metadata": {
    "id": "1ekPnlTlM_zh"
   },
   "outputs": [],
   "source": [
    "### ╰( ͡° ͜ʖ ͡° )つ▬▬ι═══════  bzzzzzzzzzz\n",
    "# will the code be with you\n",
    "\n",
    "# Внесите в код датасета выше свои правки"
   ]
  },
  {
   "cell_type": "markdown",
   "metadata": {
    "id": "1v_Rgi_DM_zh"
   },
   "source": [
    "Объявим датасеты, оставим в словаре 30 000 самых частотных слов. Будем смотреть на титулы максимальной длины 20."
   ]
  },
  {
   "cell_type": "code",
   "execution_count": null,
   "metadata": {
    "id": "2zjgEiWWM_zh"
   },
   "outputs": [],
   "source": [
    "CLASSES_NUM = len(idx2tag)\n",
    "VOCAB_SIZE = 10000\n",
    "MAX_TITLE_LEN = 20\n",
    "\n",
    "# словарь создаем по всей выборке\n",
    "vocabulary = create_vocab(' '.join(df_ria.title_clean.values))\n",
    "\n",
    "# объявляем датасеты\n",
    "train_dataset = NewsDataset(df_train.target_tags.values, df_train.title_clean.values, vocabulary, VOCAB_SIZE, MAX_TITLE_LEN, CLASSES_NUM )\n",
    "val_dataset = NewsDataset(df_val.target_tags.values, df_val.title_clean.values, vocabulary, VOCAB_SIZE, MAX_TITLE_LEN, CLASSES_NUM )\n",
    "test_dataset = NewsDataset(df_test.target_tags.values, df_test.title_clean.values, vocabulary, VOCAB_SIZE, MAX_TITLE_LEN, CLASSES_NUM )"
   ]
  },
  {
   "cell_type": "code",
   "execution_count": null,
   "metadata": {
    "id": "kNdo56v0M_zh"
   },
   "outputs": [],
   "source": [
    "train_dataloader = DataLoader(train_dataset, shuffle=True, batch_size=64, num_workers=4)\n",
    "val_dataloader = DataLoader(val_dataset, shuffle=False, batch_size=4096, num_workers=4)"
   ]
  },
  {
   "cell_type": "markdown",
   "metadata": {
    "id": "WvQXMtISM_zh"
   },
   "source": [
    "## 1.4 Архитектуры\n",
    "\n",
    "Соберём базовую архитектуру для обучения."
   ]
  },
  {
   "cell_type": "code",
   "execution_count": null,
   "metadata": {
    "id": "dN8DAIIkM_zh"
   },
   "outputs": [],
   "source": [
    "from torch import nn\n",
    "import torch.nn.functional as F\n",
    "\n",
    "class SimpleClassifier(nn.Module):\n",
    "\n",
    "    def __init__(self, vocab_size, embedding_dim, output_dim):\n",
    "        super().__init__()\n",
    "        self.embedding = nn.Embedding(vocab_size, embedding_dim)\n",
    "        self.fc = nn.Linear(embedding_dim, output_dim)\n",
    "\n",
    "    def forward(self, title):\n",
    "        embedded = self.embedding(title)\n",
    "        embedded = embedded.mean(dim=1)\n",
    "        return self.fc(embedded)"
   ]
  },
  {
   "cell_type": "markdown",
   "metadata": {
    "id": "slQEltBQM_zh"
   },
   "source": [
    "Соберём в `pytorch_lightning` модуль для обучения нейронки."
   ]
  },
  {
   "cell_type": "code",
   "execution_count": null,
   "metadata": {
    "id": "GqKIxEyoM_zi"
   },
   "outputs": [],
   "source": [
    "#!pip3 install pytorch_lightning"
   ]
  },
  {
   "cell_type": "code",
   "execution_count": null,
   "metadata": {
    "id": "5E6J3of9M_zi"
   },
   "outputs": [],
   "source": [
    "import pytorch_lightning as pl\n",
    "\n",
    "class TrainLightningModule(pl.LightningModule):\n",
    "    def __init__(self, model, learning_rate, criterion):\n",
    "        super().__init__()\n",
    "        self.model = model\n",
    "        self.criterion = criterion\n",
    "        self.learning_rate = learning_rate\n",
    "\n",
    "    def forward(self, title):\n",
    "        result = self.model(title)\n",
    "        return result\n",
    "\n",
    "    def configure_optimizers(self):\n",
    "        optimizer = torch.optim.Adam(self.parameters(), lr=self.learning_rate)\n",
    "        return optimizer\n",
    "\n",
    "    def training_step(self, train_batch, batch_idx):\n",
    "        title, target = train_batch\n",
    "        logits = self.model(title)\n",
    "        loss = self.criterion(logits, target)\n",
    "        self.log(\n",
    "            \"train_loss\", loss, prog_bar=True\n",
    "        )\n",
    "        return loss\n",
    "\n",
    "    def validation_step(self, val_batch, batch_idx):\n",
    "        title, target = val_batch\n",
    "        logits = self.model(title)\n",
    "        loss = self.criterion(logits, target)\n",
    "        self.log(\n",
    "            \"val_loss\", loss, prog_bar=True\n",
    "        )\n",
    "        return loss"
   ]
  },
  {
   "cell_type": "markdown",
   "metadata": {
    "id": "6BirneLfM_zi"
   },
   "source": [
    "Обучим модель."
   ]
  },
  {
   "cell_type": "code",
   "execution_count": null,
   "metadata": {
    "colab": {
     "base_uri": "https://localhost:8080/",
     "height": 349,
     "referenced_widgets": [
      "3ef009aeabae43b48bc913a592d1a019",
      "75b99a050a37493389ff96724a9a3b72",
      "78fe9e3a3d614de9a6f3efacde67d247",
      "2d71626a24cb45f39095e7e3fd621707",
      "4f75594be29e49cc99fe61a6787e7564",
      "9ab912602cc24346a011fdf58feafbde",
      "af211f3be2ce4fb1b6733fa552ed041b",
      "84f32a71a7cd4de6b55a9558717d00ef",
      "5db675de6b8348e9a9823384541bdfff",
      "6fa8591a1a834d8785b1ebe8eff2b10d",
      "acfec13aec454320b585c0b8331e9448",
      "1ae6951f8b984b318210df9d009479d8",
      "d9456651273140f9bd6e587ab852eeec",
      "b174cb3407a04b2989e6049555265446",
      "7bd174d7cd2346be9db9d5a0a170f8cb",
      "3ada921ee7644de997b57ffd2c57044d",
      "17e62da8657f44d9a998f4acbbd29671",
      "be93fd003ef54d7e85bb1fcaa894e467",
      "938d3da0eef54ee997fc0ce7ccf1807b",
      "1c10405770654b90a3635ba4acabb6ef",
      "2da5b84f9384445a8d9db58ef3dafa5e",
      "abcb57f0947f413d9cb83c62c6529562",
      "d8cd82c7af8747148b5b4750e8f1372a",
      "17d8af2b171440cba00f8b2df1a08073",
      "fde8213392c546b58ad8a81aacf4fcb3",
      "09093bb710bd4903abf2e10db6efc0a0",
      "d92ec28e7e6c47c4b2e3669b502b8b9e",
      "201a41be363549eaa0fdc903fb41f83e",
      "60c4aa6c4c8145949cd16ec0670227a1",
      "58fbdeafd7ee40cd9392cd4a62c49b81",
      "286fbf1303dc4f0b9c1bb3cfb34f920e",
      "8fc5cc9d0df74d5081fa3f8c89595daf",
      "0cbe638b1d354bea83ccba54ee3d1f5c",
      "f2b6c28c36e64f66b54834f543cec282",
      "2d98065fccb34cb1b44740aa4510f0e7",
      "2aa0bc933aae46729672d55e60c17616",
      "950950a569914ad1a263f3f295e57852",
      "2f4dcf310c634bdba125e8bf46d3db26",
      "6072601881c341fb8e5329fab05ee52d",
      "13a1fd50c8f24f12a0f28485b6168606",
      "546d1deb5c934916b722fb9ab0ce5e67",
      "86ed101f86384b9b92eb3faccae5bca2",
      "cba28fcac7c349e8ac9794d507768744",
      "7bb5cc7b77654cc0b27a22552941a1ce",
      "b6179f72e8f94772a4e1e2a503bc1d47",
      "9ec11067fc81414d97457b47e93b78a1",
      "6351ca36d8d648afa472093df7e73e45",
      "d1efd4fe9adc4243a81d401784b77530",
      "2cb3f56ff669424da4e9bace352831b8",
      "3dc20b49832e46c6ad70dc754f43555f",
      "100219bd594645c5b60c3da4a44344fe",
      "7a6a637bb7664b4495b2b56b45d88ee4",
      "74bf3b2a873e40ffa139f1afe652ffe8",
      "640ac5a06820498585c48a1b69355d0d",
      "515318593400421487560182023801f1",
      "2a38ec8f52d74e018a4c1876d3a2f874",
      "fd22c38d837a404ab892ddaddf4a8988",
      "a474d8d377674579b3c9f5327fbb1862",
      "0029cbbc48c64effb57bffff5d199e34",
      "e9d2f22400db472283508e8c01f08fbb",
      "46204f92abf1414da360d79b4ca7a924",
      "0a54156fabcd4ef3b73b038b71485a6a",
      "2e02be5bf0be40bf87f1364b1fd587ec",
      "560450b99c8f4636b3a700db3fc21253",
      "0140e6c8951147b6a7e079682e938e7f",
      "534e121744814f4d8880072004513e37",
      "b23fac677f5e4e8884f84fe60585330d",
      "1ae57433e573436b8bbdf6c22630930d",
      "6769dc278aae487db30d78caa97c6dd8",
      "b5b6d56829af44d99b904176b9552101",
      "7dc052c589534aa986569d863596a2a3",
      "5d422f8cbd47402bb8f28b258e5abed0",
      "80d177b53a5f4fe0a733d3b7d36e9b30",
      "71c435b7fa6f4a0fb44a4c8a8b5a73f6",
      "c05c8b6064f94652a1f2ed5c3bb7c2b0",
      "c44756a0ec83400f9f6daf8d1179ad91",
      "a2903f89f4584f16b9f5b412d2730672"
     ]
    },
    "id": "5ShTLAStM_zi",
    "outputId": "c1894412-c82d-4061-971d-4c732c3ae599"
   },
   "outputs": [],
   "source": [
    "EMBEDDING_DIM = 300\n",
    "EPOCHS = 5\n",
    "LR = 1e-3\n",
    "\n",
    "model_baseline = SimpleClassifier(VOCAB_SIZE, EMBEDDING_DIM, CLASSES_NUM)\n",
    "criterion = torch.nn.CrossEntropyLoss()\n",
    "\n",
    "train_module =TrainLightningModule(model_baseline, LR, criterion)\n",
    "\n",
    "trainer = pl.Trainer(accelerator=\"gpu\", max_epochs=EPOCHS)\n",
    "trainer.fit(train_module, train_dataloader, val_dataloader)"
   ]
  },
  {
   "cell_type": "markdown",
   "metadata": {
    "id": "Qj9QJ-xEM_zi"
   },
   "source": [
    "__[1 балл] Задание 4:__  Модель выше работает только с титулом.\n",
    "\n",
    "- Залоггируйте её обучение на [WandB](https://wandb.ai/).\n",
    "- Соберите архитектуру, которая будет принимать на вход не только титул, но ещё и сниппет. В этой архитектуре должно происходить следующее:\n",
    "\n",
    "1. Общий слой `nn.Embedding` применяется к сниппету и титулу параллельно.\n",
    "2. Происходит усреднее по текстам.\n",
    "3. Вектора конкатятся в один длины 600\n",
    "4. Линейный слой делает классификацию\n",
    "\n",
    "Обучите эту модель. Сравните траектории обучения на WandB. Прикрепите ссылку на дашборд либо скришот к тетрадке.\n",
    "\n",
    "Даталоадеры придётся объявить заново с учётом сниппетов. Правда ли, что она бьёт на валидационной выборке модель, обученную только на титулах статей?"
   ]
  },
  {
   "cell_type": "code",
   "execution_count": null,
   "metadata": {
    "id": "pOJSMhYMM_zi"
   },
   "outputs": [],
   "source": [
    "# your code here\n",
    "# (￢_￢)"
   ]
  },
  {
   "cell_type": "markdown",
   "metadata": {
    "id": "qKdBptFbM_zi"
   },
   "source": [
    "## 1.5 Инференс и оценка качества моделей\n",
    "\n",
    "Для каждой новости нам надо предсказывать несколько тэгов. То есть в нашем случае настоящее значение таргета это множество из тэгов $y_i = [tag1, tag2, tag3]$. Прогноз модели также множество из тэгов $\\hat y_i = [tag1, tag4]$.\n",
    "\n",
    "Будем считать метрики качества следующим образом (под $|A|$ имеется в виду мощность множества, то есть число элементов в нём):\n",
    "\n",
    "$$\n",
    "Precision = \\frac{1}{n} \\sum_{i = 1}^n \\frac{|y_i \\cap \\hat{y}_i|}{|\\hat{y}_i|}\n",
    "$$\n",
    "\n",
    "$$\n",
    "Recall = \\frac{1}{n} \\sum_{i = 1}^n \\frac{|y_i \\cap \\hat{y}_i|}{|y_i|}\n",
    "$$\n",
    "\n",
    "Также можно считать аналог Accuracy, но это не самая удачная идея, так как у нас в выборке огромное число нулей и эта метрика при любом разумном пороге для принятия решения будет очень высокой.\n",
    "\n",
    "$$\n",
    "Exact Match = \\frac{1}{n} \\cdot \\frac{1}{k} \\sum_{i = 1}^n \\sum_{k=1}^K [y_{ij} = \\hat{y}_{ij}]\n",
    "$$"
   ]
  },
  {
   "cell_type": "code",
   "execution_count": null,
   "metadata": {
    "id": "tgBsB48FM_zi"
   },
   "outputs": [],
   "source": [
    "def precision(target, y_pred):\n",
    "    num = ((y_pred == 1) & (target == 1)).sum(dim=1)\n",
    "    denum = (y_pred == 1).sum(dim=1)\n",
    "    return (num/(denum + 1e-5)).mean().item()\n",
    "\n",
    "def recall(target, y_pred):\n",
    "    num = ((y_pred == 1) & (target == 1)).sum(dim=1)\n",
    "    denum = (target == 1).sum(dim=1)\n",
    "    return (num/(denum + 1e-5)).mean().item()\n",
    "\n",
    "def exact_match(target, y_pred):\n",
    "    return (1.*(y_pred == target)).mean().item()"
   ]
  },
  {
   "cell_type": "markdown",
   "metadata": {
    "id": "eD9UeFECM_zi"
   },
   "source": [
    "Построим прогноз на тестовой выборке."
   ]
  },
  {
   "cell_type": "code",
   "execution_count": null,
   "metadata": {
    "id": "JHHDcGUDM_zi"
   },
   "outputs": [],
   "source": [
    "test_dataloader = DataLoader(test_dataset, shuffle=False, batch_size=test_dataset.__len__())\n",
    "\n",
    "for title, target in test_dataloader:\n",
    "    logit = model_baseline(title)\n",
    "    pred_prob = F.softmax(logit, dim=1)\n",
    "\n",
    "assert pred_prob.shape[0] == test_dataset.__len__()"
   ]
  },
  {
   "cell_type": "markdown",
   "metadata": {
    "id": "mzbiK9llM_zi"
   },
   "source": [
    "Теперь выбирая различное значение порога, мы можем получать разные предсказания. Если взять очень большое значение порога, то метрики сильно просядут, так как во многих документах никакого прогноза не будет построено вообще."
   ]
  },
  {
   "cell_type": "code",
   "execution_count": null,
   "metadata": {
    "colab": {
     "base_uri": "https://localhost:8080/"
    },
    "id": "v2UI7GKqM_zj",
    "outputId": "c0385b7a-87c8-4e0a-914c-9ac9a93ce67a"
   },
   "outputs": [],
   "source": [
    "TRESHOLD = 0.01\n",
    "y_pred = 1*(pred_prob > TRESHOLD)\n",
    "\n",
    "print('Exact Match:', exact_match(target, y_pred))\n",
    "print('Precision:', precision(target, y_pred))\n",
    "print('Recall:', recall(target, y_pred))"
   ]
  },
  {
   "cell_type": "code",
   "execution_count": null,
   "metadata": {
    "colab": {
     "base_uri": "https://localhost:8080/"
    },
    "id": "6v3CTYheM_zj",
    "outputId": "eec95f36-d6c3-444d-dc0d-0b7161d31a9d"
   },
   "outputs": [],
   "source": [
    "TRESHOLD = 0.05\n",
    "y_pred = 1*(pred_prob > TRESHOLD)\n",
    "print('Exact Match:', exact_match(target, y_pred))\n",
    "print('Precision:', precision(target, y_pred))\n",
    "print('Recall:', recall(target, y_pred))"
   ]
  },
  {
   "cell_type": "code",
   "execution_count": null,
   "metadata": {
    "colab": {
     "base_uri": "https://localhost:8080/"
    },
    "id": "7mokX9IVM_zj",
    "outputId": "239c1246-ca6d-4579-be5b-5ebebb4fe526"
   },
   "outputs": [],
   "source": [
    "TRESHOLD = 0.9\n",
    "y_pred = 1*(pred_prob > TRESHOLD)\n",
    "\n",
    "print('Exact Match:', exact_match(target, y_pred))\n",
    "print('Precision:', precision(target, y_pred))\n",
    "print('Recall:', recall(target, y_pred))"
   ]
  },
  {
   "cell_type": "markdown",
   "metadata": {
    "id": "IUWFt7jjM_zj"
   },
   "source": [
    "Дальше мы будем строить довольно много прогнозов. Давайте напишем код для их строительства в виде функции. Обратите внимание, что на модели со снипетом она упадёт. Когда вы доберётесь до строительства прогнозов, функцию придётся немного модернизировать."
   ]
  },
  {
   "cell_type": "code",
   "execution_count": null,
   "metadata": {
    "id": "B3YFX4d2M_zk"
   },
   "outputs": [],
   "source": [
    "def get_predict(model, dataset):\n",
    "    dataloader = DataLoader(dataset, shuffle=False, batch_size=dataset.__len__())\n",
    "\n",
    "    for title, target in dataloader:\n",
    "        logit = model(title)\n",
    "        pred_prob = F.softmax(logit, dim=1)\n",
    "\n",
    "    assert pred_prob.shape[0] == dataset.__len__()\n",
    "    return pred_prob, target"
   ]
  },
  {
   "cell_type": "markdown",
   "metadata": {
    "id": "g0n493n_M_zk"
   },
   "source": [
    "__[0.5 балла] Задание 5:__ Какая метрика для нас в этой задаче важнее? Точность или полнота? Почему?\n",
    "\n",
    "__ваш ответ:__"
   ]
  },
  {
   "cell_type": "markdown",
   "metadata": {
    "id": "6TFEvxI6M_zk"
   },
   "source": [
    "- Напишите функцию, которая будет подбирать оптимальное значение порога, оптимизирующее выбранную вами метрику.\n",
    "- Подберите значение порога на валидационной выборке.\n",
    "- Сравните модель со сниппетами и без сниппетов, используя выбранную вами метрику при оптимальном значении порога на тестовой выборке.\n",
    "- Какая из них оказалась лучше?"
   ]
  },
  {
   "cell_type": "code",
   "execution_count": null,
   "metadata": {
    "id": "BCq67JmUM_zl"
   },
   "outputs": [],
   "source": [
    "# your code here\n",
    "# (＠_＠)"
   ]
  },
  {
   "cell_type": "markdown",
   "metadata": {
    "id": "o-QRc-UXM_zl"
   },
   "source": [
    "__[0.5 балла] Задание 6:__  Постройте прогнозы для отложенной выборки, которая представляет из себя пересечение сайта РИА-новостей и ВКонтакте. Проседает ли на ней качество модели? Насколько сильно?"
   ]
  },
  {
   "cell_type": "code",
   "execution_count": null,
   "metadata": {
    "colab": {
     "base_uri": "https://localhost:8080/",
     "height": 206
    },
    "id": "3Tc02SgLM_zl",
    "outputId": "5525c33a-b896-47bb-f9d5-9fb9c87f06f7"
   },
   "outputs": [],
   "source": [
    "df_oob.head()"
   ]
  },
  {
   "cell_type": "code",
   "execution_count": null,
   "metadata": {
    "id": "1Z5AvLtcM_zl"
   },
   "outputs": [],
   "source": [
    "# your code here\n",
    "# (❍ᴥ❍ʋ)"
   ]
  },
  {
   "cell_type": "markdown",
   "metadata": {
    "id": "EmFzWAHtM_zl"
   },
   "source": [
    "Давайте модернизируем наши архитектуры настолько, насколько это возможно.\n",
    "\n",
    "__[0.9 балла] Бонусное задание 1:__ Попробуйте собрать более большую архитектуру. Например, сразу после слоя эмбеддингов вы можете попробовать добавить свёрточные слои (`Conv1D` свёртки). Поиграйте с оптимизатором и тп.\n",
    "\n",
    "Опишите результаты своих экспериментов ниже. Расскажите, что конкретно вы делали и удалось ли вам улучшить качество модели. Все траектории обучения залоггируйте на WandB.   "
   ]
  },
  {
   "cell_type": "markdown",
   "metadata": {
    "id": "obvk588CM_zl"
   },
   "source": [
    "__Ваш лог экспериментов:__\n",
    "\n",
    "-\n",
    "-\n",
    "-"
   ]
  },
  {
   "cell_type": "code",
   "execution_count": null,
   "metadata": {
    "id": "mII3wWHOM_zl"
   },
   "outputs": [],
   "source": [
    "# your code here\n",
    "# (⊙_⊙)"
   ]
  },
  {
   "cell_type": "markdown",
   "metadata": {
    "id": "7kMKmn72M_zl"
   },
   "source": [
    "__[0.9 балла] Бонусное задание 2:__ Скачайте с сайта [Rusvectores](https://rusvectores.org/ru/models/) любые новостные word2vec эмбединги. Возьмите из модели эмбеддинги для всех слов, которые встречаются вв вашем словаре и добавьте их в модель первым слоем. Заморозьте этот слой и не обновляйте в нём веса. Если у вас в словаре есть слово, но его нет среди предобученных эмбеддингов, замените его на токен `#UNKN`."
   ]
  },
  {
   "cell_type": "markdown",
   "metadata": {
    "id": "k9ldlZ5gM_zl"
   },
   "source": [
    "__Ваш лог экспериментов:__\n",
    "\n",
    "-\n",
    "-\n",
    "-"
   ]
  },
  {
   "cell_type": "code",
   "execution_count": null,
   "metadata": {
    "id": "XoIlDPe0M_zl"
   },
   "outputs": [],
   "source": [
    "# your code here\n",
    "# =^･ｪ･^="
   ]
  },
  {
   "cell_type": "markdown",
   "metadata": {
    "id": "w8ziz2ATM_zl"
   },
   "source": [
    "__[1.5 балла] Задание 7:__ Зафайнтьюньте трансформер для решения задачи с помощью библиотеки `hugging face`. Выбор предобученной модели кратко обоснуйте."
   ]
  },
  {
   "cell_type": "markdown",
   "metadata": {
    "id": "GoVv-AS4M_zl"
   },
   "source": [
    "__Ваш лог экспериментов:__\n",
    "\n",
    "-\n",
    "-\n",
    "-"
   ]
  },
  {
   "cell_type": "code",
   "execution_count": null,
   "metadata": {
    "id": "Dg02xRLrM_zl"
   },
   "outputs": [],
   "source": [
    "# your code here\n",
    "# ٩(ˊ〇ˋ*)و\n"
   ]
  },
  {
   "cell_type": "markdown",
   "metadata": {
    "id": "vt8mcUllUmM8"
   },
   "source": [
    "Сравните все обученные модели между собой на тестовой выборке."
   ]
  },
  {
   "cell_type": "code",
   "execution_count": null,
   "metadata": {
    "id": "Kq-sVD7HUkz3"
   },
   "outputs": [],
   "source": [
    "# your code here\n",
    "# (⌐■_■)"
   ]
  },
  {
   "cell_type": "markdown",
   "metadata": {
    "id": "SoCALHfJM_zm"
   },
   "source": [
    "## Часть 2: предсказание категорий (0.5 балла)\n",
    "\n",
    "**[0.5 балла] Задание 8:** Возьмите датасет `df_vk` и для всех новостей из него предскажите категории с помощью лучшей, получившейся у вас модели."
   ]
  },
  {
   "cell_type": "code",
   "execution_count": null,
   "metadata": {
    "id": "99fmOzZUM_zm"
   },
   "outputs": [],
   "source": [
    "df_vk['target_tags'] = [[0]]*df_vk.shape[0]\n",
    "\n",
    "# your code here\n",
    "# (っ˘ڡ˘ς)"
   ]
  },
  {
   "cell_type": "markdown",
   "metadata": {
    "id": "qpw07S0UM_zm"
   },
   "source": [
    "На всякий случай сохраните табличку с получившимися у вас предсказаниями. Мало ли, вы не доделаете последнее задание, а потом захотите вернуться к нему. Не прогонять же обучение нейросети и инференс по второму кругу..."
   ]
  },
  {
   "cell_type": "code",
   "execution_count": null,
   "metadata": {
    "id": "alIF9U2tM_zm"
   },
   "outputs": [],
   "source": [
    "# Ваш код с сохранением данных\n",
    "\n",
    "# your code here\n",
    "# ¯\\_(ツ)_/¯"
   ]
  },
  {
   "cell_type": "markdown",
   "metadata": {
    "id": "H_jo72yzM_zm"
   },
   "source": [
    "## Часть 3: сентимент-классификатор (1.5 балла)"
   ]
  },
  {
   "cell_type": "markdown",
   "metadata": {
    "id": "uI33vB5bM_zm"
   },
   "source": [
    "В этой части тетрадки нам предстоит прогнать все комментарии из ВК через сентимент-классификатор. Мы будем делать это с помощью библиотеки HuggingFace. В ней есть удобная [функциональность pipline,](https://huggingface.co/docs/transformers/pipeline_tutorial) чтобы прогонять на своих данных уже обученные модели. 🤗🤗🤗"
   ]
  },
  {
   "cell_type": "code",
   "execution_count": null,
   "metadata": {
    "id": "4VEwMUYxM_zm",
    "outputId": "09157c72-c06e-426b-b1a4-bd6794f849d3"
   },
   "outputs": [],
   "source": [
    "df_comments.head()"
   ]
  },
  {
   "cell_type": "markdown",
   "metadata": {
    "id": "3gVL29D3M_zm"
   },
   "source": [
    "**[1.5 балла] Задание 9:** Для классификации комментариев на позитивные, негативные и нейтральные будем использовать [модель, о которой можно почитать по ссылке](https://huggingface.co/seara/rubert-tiny2-russian-sentiment)\n",
    "\n",
    "Ответьте на следующие вопросы:\n",
    "\n",
    "1. Как зовут автора модели?\n",
    "2. Как выглядит архитектура модели? Насколько модель большая?\n",
    "3. На каких данных обучена модель? Адекватно ли использовать её для классификации комментариев ВК?"
   ]
  },
  {
   "cell_type": "markdown",
   "metadata": {
    "id": "hedd3_EAM_zm"
   },
   "source": [
    "Установим библиотеку. 🤗🤗🤗"
   ]
  },
  {
   "cell_type": "code",
   "execution_count": null,
   "metadata": {
    "id": "-ZCfZ0ZfM_zm"
   },
   "outputs": [],
   "source": [
    "!pip3 install transformers"
   ]
  },
  {
   "cell_type": "markdown",
   "metadata": {},
   "source": [
    "**Варнинг:** в этом задании не обязательно ждать, пока код проскорит весь датасет - это долго. Напишите код, проверьте, что он корректно работает - проскорьте пару десятков строк датасета и принтаните их. Дальше вы можете взять уже проскоренный датасет. Возможно, кто-то проскорит все раньше остальных и захочет поделиться результатом. Вот его разрешается взять, как готовый результат выполнения задания. Главное - покажите, что ваш код тоже работает."
   ]
  },
  {
   "cell_type": "markdown",
   "metadata": {
    "id": "4cDtjMFaM_zm"
   },
   "source": [
    "Разберитесь как можно прогнать модель на корпусе комментариев и сделайте это. Да, с помощью pipeline можно запустить довольно сложные модели, обученные другими людьми в пару строчек. При объявлении модели не забудьте положить её на нужный `device` 🤗🤗🤗"
   ]
  },
  {
   "cell_type": "code",
   "execution_count": null,
   "metadata": {
    "id": "sEfhf12pM_zm",
    "outputId": "d718568b-38bb-4a26-c8e6-e61c96088c87"
   },
   "outputs": [],
   "source": [
    "# your code here\n",
    "# ʕ•ᴥ•ʔ"
   ]
  },
  {
   "cell_type": "markdown",
   "metadata": {
    "id": "5XmrUVvhM_zm"
   },
   "source": [
    "Цикл для сентимент-анализа комментариев может работать довольно долго. Я крайне рекомендую вам переодически сохранять к себе на компьютер промежуточные результаты. Итоговый результат я рекомендую записать отдельным столбиком в таблицу с комментариями, а затем сохранить полученные результаты. 🤗🤗🤗"
   ]
  },
  {
   "cell_type": "code",
   "execution_count": null,
   "metadata": {
    "id": "jYpqlGahM_zm"
   },
   "outputs": [],
   "source": [
    "df_vk['sentiment_verdict'] = ...\n",
    "df_vk['sentiment_score'] = ...\n",
    "\n",
    "# <ваш код для сохранения данных>\n",
    "\n",
    "# your code here\n",
    "# ¯\\_(ツ)_/¯"
   ]
  },
  {
   "cell_type": "markdown",
   "metadata": {
    "id": "smRVE1hVM_zn"
   },
   "source": [
    "## Часть 4: аналитика (3 балла + 0.2 бонусных)\n",
    "\n",
    "Мы с вами огромные молодцы. Мы обучили модель для категоризации новостей, построили с её помощью прогнозы. Мы проскорили комментарии на их сентимент-окрас. Теперь давайте проанализируем новости. Описывайте полученные результаты таким образом, чтобы не получить уголовку на 5 лет за дискредитацию чего-нибудь или оскорбление чувств кого-нибудь 💜"
   ]
  },
  {
   "cell_type": "markdown",
   "metadata": {
    "id": "7z-jdjgeM_zn"
   },
   "source": [
    "__[0.6 балла] Задание 10:__ Какая доля комментариев позитивная? Какая доля комментариев негативная? Выведите 10 самых позитивных комментариев.\n",
    "\n",
    "Выведите 10 самых негативных комментариев, поугарайте с них. Удалите их вывод из тетрадки. Никто не должен их видеть, это должно остаться только между нами. Поззитивные не удаляйте. Они пусть останутся."
   ]
  },
  {
   "cell_type": "code",
   "execution_count": null,
   "metadata": {
    "id": "EqOwlAusM_zn"
   },
   "outputs": [],
   "source": [
    "# your code here\n",
    "# ʕ•ᴥ•ʔ"
   ]
  },
  {
   "cell_type": "markdown",
   "metadata": {
    "id": "SGfBQto1M_zn"
   },
   "source": [
    "__[0.6 балла] Задание 11:__ Для каждой новости из датасета посчитайте количество негативных и позитивных комментариев под ней. Сохраните эти количества в виде новых колонок."
   ]
  },
  {
   "cell_type": "code",
   "execution_count": null,
   "metadata": {
    "id": "WNySt0w7M_zn"
   },
   "outputs": [],
   "source": [
    "# your code here\n",
    "# [✖‿✖]"
   ]
  },
  {
   "cell_type": "markdown",
   "metadata": {
    "id": "jBOzB5yBM_zn"
   },
   "source": [
    "__[0.6 балла] Задание 12:__ Правда ли, что новости с большим количеством лайков получают больше негативных комментариев? А позитивных? Правда ли, что чем больше лайков, тем под новостью больше комментариев?\n",
    "\n",
    "Постройте визуализацию, которая могла бы это проиллюстрировать."
   ]
  },
  {
   "cell_type": "code",
   "execution_count": null,
   "metadata": {
    "id": "UjI74lt5M_zn"
   },
   "outputs": [],
   "source": [
    "# your code here\n",
    "# ┌(ಠ_ಠ)┘"
   ]
  },
  {
   "cell_type": "markdown",
   "metadata": {
    "id": "3wN5AFrAM_zn"
   },
   "source": [
    "__[0.6 балла] Задание 13:__  Давайте построим по сентимент-окрасу комментариев топ позитивных новостей.\n",
    "\n",
    "- Если под новостью оставлено 100 комментариев, из которых 80 позитивные, мы можем быть уверены в том, что новость была хорошо воспринята людьми.\n",
    "- Если под новостью всего один комментарий и он оказался позитивным, то у нас 100% позитивных комментариев, но это вовсе не означает, что новость была воспринята хорошо.\n",
    "\n",
    "Получается, что сортировать по доле позитивных комментариев нельзя. Давайте поступим умнее. Доля позитивных комментариев под постом -- это случайная величина. Её довольно часто моделируют с помощью бета-распределения. Если это случайная величина, мы можем построить для неё предиктивный интервал. Пусть $u$ - число позитивных комментариев, а $d$ - нейтральных и негативных.  Пусть\n",
    "\n",
    "$$\n",
    "a = 1 + u \\qquad b = 1 + d.\n",
    "$$\n",
    "\n",
    "Тогда нижняя граница $95\\%$ предиктивного интервала для доли будет вычисляться по такой формуле:\n",
    "\n",
    "$$\n",
    "\\frac{a}{a + b} - 1.65 \\cdot \\sqrt{\\frac{a \\cdot b}{(a + b)^2 \\cdot (a + b + 1)}}\n",
    "$$\n",
    "\n",
    "Если под новостью был всего один комментарий, у такой случайной величины будет высокая дисперсия. Это означаeт, что штука, которую мы вычитаем из доли, окажется высокой. Левая граница интервала окажется маленькой и мы не поднимем комментарий в нашем топе наверх. Фактически мы делаем сортировку по квантилю уровня $0.05$ вместо среднего.\n",
    "\n",
    "От вас требуется вбить эту формулу, сделать сортировку и вывести на экран топ позитивных новостей. Подробнее про то, откуда берётся эта формула можно почитать [в этой книге.](https://disk.yandex.ru/i/Ctd08bTwC9eI3g) Ищите 4 главу, страницу 140."
   ]
  },
  {
   "cell_type": "code",
   "execution_count": null,
   "metadata": {
    "id": "ToygzCZwM_zn"
   },
   "outputs": [],
   "source": [
    "# your code here\n",
    "# ฅ^•ﻌ•^ฅ"
   ]
  },
  {
   "cell_type": "markdown",
   "metadata": {
    "id": "8CuDk6kbM_zn"
   },
   "source": [
    "Построили? Срочно пришлите свою любимую позитивную  новость в общий чат!!!\n",
    "\n",
    "Топ негативных новостей строить не будем. Вокруг итак слишком много негатива 😻😻😻"
   ]
  },
  {
   "cell_type": "markdown",
   "metadata": {
    "id": "Gg_wCzsBM_zn"
   },
   "source": [
    "__[0.6 балла] Задание 14:__ Какие категории новостей оказались самыми позитивными? Придумайте способ найти такие категории и опишите его тут.\n",
    "\n",
    "__Ответ:__"
   ]
  },
  {
   "cell_type": "code",
   "execution_count": null,
   "metadata": {
    "id": "SNEWqGVpM_zn"
   },
   "outputs": [],
   "source": [
    "# your code here\n",
    "# ٩(⁎❛ᴗ❛⁎)۶"
   ]
  },
  {
   "cell_type": "markdown",
   "metadata": {
    "id": "gDFw6uQeM_zn"
   },
   "source": [
    "__[0.2 балла] Бонусное задание 3:__ Проанализируйте, как температура комментария (вероятность того, что он негативный) зависит от длины трэда (число комментариев под новостью)? Значима ли эта взаимосвязь? Если вам для проверки этого хочется построить линейную регрессию, не сдерживайтесь."
   ]
  },
  {
   "cell_type": "code",
   "execution_count": null,
   "metadata": {
    "id": "usdYfPV0M_zn"
   },
   "outputs": [],
   "source": [
    "# your code here\n",
    "# ヾ(๑╹◡╹)ﾉ"
   ]
  }
 ],
 "metadata": {
  "accelerator": "GPU",
  "colab": {
   "gpuType": "T4",
   "provenance": []
  },
  "kernelspec": {
   "display_name": "default",
   "language": "python",
   "name": "python3"
  },
  "language_info": {
   "codemirror_mode": {
    "name": "ipython",
    "version": 3
   },
   "file_extension": ".py",
   "mimetype": "text/x-python",
   "name": "python",
   "nbconvert_exporter": "python",
   "pygments_lexer": "ipython3",
   "version": "3.11.9"
  },
  "widgets": {
   "application/vnd.jupyter.widget-state+json": {
    "0029cbbc48c64effb57bffff5d199e34": {
     "model_module": "@jupyter-widgets/controls",
     "model_module_version": "1.5.0",
     "model_name": "HTMLModel",
     "state": {
      "_dom_classes": [],
      "_model_module": "@jupyter-widgets/controls",
      "_model_module_version": "1.5.0",
      "_model_name": "HTMLModel",
      "_view_count": null,
      "_view_module": "@jupyter-widgets/controls",
      "_view_module_version": "1.5.0",
      "_view_name": "HTMLView",
      "description": "",
      "description_tooltip": null,
      "layout": "IPY_MODEL_0140e6c8951147b6a7e079682e938e7f",
      "placeholder": "​",
      "style": "IPY_MODEL_534e121744814f4d8880072004513e37",
      "value": " 11/11 [00:00&lt;00:00, 19.45it/s]"
     }
    },
    "0140e6c8951147b6a7e079682e938e7f": {
     "model_module": "@jupyter-widgets/base",
     "model_module_version": "1.2.0",
     "model_name": "LayoutModel",
     "state": {
      "_model_module": "@jupyter-widgets/base",
      "_model_module_version": "1.2.0",
      "_model_name": "LayoutModel",
      "_view_count": null,
      "_view_module": "@jupyter-widgets/base",
      "_view_module_version": "1.2.0",
      "_view_name": "LayoutView",
      "align_content": null,
      "align_items": null,
      "align_self": null,
      "border": null,
      "bottom": null,
      "display": null,
      "flex": null,
      "flex_flow": null,
      "grid_area": null,
      "grid_auto_columns": null,
      "grid_auto_flow": null,
      "grid_auto_rows": null,
      "grid_column": null,
      "grid_gap": null,
      "grid_row": null,
      "grid_template_areas": null,
      "grid_template_columns": null,
      "grid_template_rows": null,
      "height": null,
      "justify_content": null,
      "justify_items": null,
      "left": null,
      "margin": null,
      "max_height": null,
      "max_width": null,
      "min_height": null,
      "min_width": null,
      "object_fit": null,
      "object_position": null,
      "order": null,
      "overflow": null,
      "overflow_x": null,
      "overflow_y": null,
      "padding": null,
      "right": null,
      "top": null,
      "visibility": null,
      "width": null
     }
    },
    "09093bb710bd4903abf2e10db6efc0a0": {
     "model_module": "@jupyter-widgets/controls",
     "model_module_version": "1.5.0",
     "model_name": "HTMLModel",
     "state": {
      "_dom_classes": [],
      "_model_module": "@jupyter-widgets/controls",
      "_model_module_version": "1.5.0",
      "_model_name": "HTMLModel",
      "_view_count": null,
      "_view_module": "@jupyter-widgets/controls",
      "_view_module_version": "1.5.0",
      "_view_name": "HTMLView",
      "description": "",
      "description_tooltip": null,
      "layout": "IPY_MODEL_8fc5cc9d0df74d5081fa3f8c89595daf",
      "placeholder": "​",
      "style": "IPY_MODEL_0cbe638b1d354bea83ccba54ee3d1f5c",
      "value": " 11/11 [00:00&lt;00:00, 32.16it/s]"
     }
    },
    "0a54156fabcd4ef3b73b038b71485a6a": {
     "model_module": "@jupyter-widgets/controls",
     "model_module_version": "1.5.0",
     "model_name": "DescriptionStyleModel",
     "state": {
      "_model_module": "@jupyter-widgets/controls",
      "_model_module_version": "1.5.0",
      "_model_name": "DescriptionStyleModel",
      "_view_count": null,
      "_view_module": "@jupyter-widgets/base",
      "_view_module_version": "1.2.0",
      "_view_name": "StyleView",
      "description_width": ""
     }
    },
    "0cbe638b1d354bea83ccba54ee3d1f5c": {
     "model_module": "@jupyter-widgets/controls",
     "model_module_version": "1.5.0",
     "model_name": "DescriptionStyleModel",
     "state": {
      "_model_module": "@jupyter-widgets/controls",
      "_model_module_version": "1.5.0",
      "_model_name": "DescriptionStyleModel",
      "_view_count": null,
      "_view_module": "@jupyter-widgets/base",
      "_view_module_version": "1.2.0",
      "_view_name": "StyleView",
      "description_width": ""
     }
    },
    "100219bd594645c5b60c3da4a44344fe": {
     "model_module": "@jupyter-widgets/controls",
     "model_module_version": "1.5.0",
     "model_name": "DescriptionStyleModel",
     "state": {
      "_model_module": "@jupyter-widgets/controls",
      "_model_module_version": "1.5.0",
      "_model_name": "DescriptionStyleModel",
      "_view_count": null,
      "_view_module": "@jupyter-widgets/base",
      "_view_module_version": "1.2.0",
      "_view_name": "StyleView",
      "description_width": ""
     }
    },
    "13a1fd50c8f24f12a0f28485b6168606": {
     "model_module": "@jupyter-widgets/controls",
     "model_module_version": "1.5.0",
     "model_name": "DescriptionStyleModel",
     "state": {
      "_model_module": "@jupyter-widgets/controls",
      "_model_module_version": "1.5.0",
      "_model_name": "DescriptionStyleModel",
      "_view_count": null,
      "_view_module": "@jupyter-widgets/base",
      "_view_module_version": "1.2.0",
      "_view_name": "StyleView",
      "description_width": ""
     }
    },
    "17d8af2b171440cba00f8b2df1a08073": {
     "model_module": "@jupyter-widgets/controls",
     "model_module_version": "1.5.0",
     "model_name": "HTMLModel",
     "state": {
      "_dom_classes": [],
      "_model_module": "@jupyter-widgets/controls",
      "_model_module_version": "1.5.0",
      "_model_name": "HTMLModel",
      "_view_count": null,
      "_view_module": "@jupyter-widgets/controls",
      "_view_module_version": "1.5.0",
      "_view_name": "HTMLView",
      "description": "",
      "description_tooltip": null,
      "layout": "IPY_MODEL_201a41be363549eaa0fdc903fb41f83e",
      "placeholder": "​",
      "style": "IPY_MODEL_60c4aa6c4c8145949cd16ec0670227a1",
      "value": "Validation DataLoader 0: 100%"
     }
    },
    "17e62da8657f44d9a998f4acbbd29671": {
     "model_module": "@jupyter-widgets/base",
     "model_module_version": "1.2.0",
     "model_name": "LayoutModel",
     "state": {
      "_model_module": "@jupyter-widgets/base",
      "_model_module_version": "1.2.0",
      "_model_name": "LayoutModel",
      "_view_count": null,
      "_view_module": "@jupyter-widgets/base",
      "_view_module_version": "1.2.0",
      "_view_name": "LayoutView",
      "align_content": null,
      "align_items": null,
      "align_self": null,
      "border": null,
      "bottom": null,
      "display": null,
      "flex": null,
      "flex_flow": null,
      "grid_area": null,
      "grid_auto_columns": null,
      "grid_auto_flow": null,
      "grid_auto_rows": null,
      "grid_column": null,
      "grid_gap": null,
      "grid_row": null,
      "grid_template_areas": null,
      "grid_template_columns": null,
      "grid_template_rows": null,
      "height": null,
      "justify_content": null,
      "justify_items": null,
      "left": null,
      "margin": null,
      "max_height": null,
      "max_width": null,
      "min_height": null,
      "min_width": null,
      "object_fit": null,
      "object_position": null,
      "order": null,
      "overflow": null,
      "overflow_x": null,
      "overflow_y": null,
      "padding": null,
      "right": null,
      "top": null,
      "visibility": null,
      "width": null
     }
    },
    "1ae57433e573436b8bbdf6c22630930d": {
     "model_module": "@jupyter-widgets/controls",
     "model_module_version": "1.5.0",
     "model_name": "HTMLModel",
     "state": {
      "_dom_classes": [],
      "_model_module": "@jupyter-widgets/controls",
      "_model_module_version": "1.5.0",
      "_model_name": "HTMLModel",
      "_view_count": null,
      "_view_module": "@jupyter-widgets/controls",
      "_view_module_version": "1.5.0",
      "_view_name": "HTMLView",
      "description": "",
      "description_tooltip": null,
      "layout": "IPY_MODEL_5d422f8cbd47402bb8f28b258e5abed0",
      "placeholder": "​",
      "style": "IPY_MODEL_80d177b53a5f4fe0a733d3b7d36e9b30",
      "value": "Validation DataLoader 0: 100%"
     }
    },
    "1ae6951f8b984b318210df9d009479d8": {
     "model_module": "@jupyter-widgets/controls",
     "model_module_version": "1.5.0",
     "model_name": "HBoxModel",
     "state": {
      "_dom_classes": [],
      "_model_module": "@jupyter-widgets/controls",
      "_model_module_version": "1.5.0",
      "_model_name": "HBoxModel",
      "_view_count": null,
      "_view_module": "@jupyter-widgets/controls",
      "_view_module_version": "1.5.0",
      "_view_name": "HBoxView",
      "box_style": "",
      "children": [
       "IPY_MODEL_d9456651273140f9bd6e587ab852eeec",
       "IPY_MODEL_b174cb3407a04b2989e6049555265446",
       "IPY_MODEL_7bd174d7cd2346be9db9d5a0a170f8cb"
      ],
      "layout": "IPY_MODEL_3ada921ee7644de997b57ffd2c57044d"
     }
    },
    "1c10405770654b90a3635ba4acabb6ef": {
     "model_module": "@jupyter-widgets/controls",
     "model_module_version": "1.5.0",
     "model_name": "ProgressStyleModel",
     "state": {
      "_model_module": "@jupyter-widgets/controls",
      "_model_module_version": "1.5.0",
      "_model_name": "ProgressStyleModel",
      "_view_count": null,
      "_view_module": "@jupyter-widgets/base",
      "_view_module_version": "1.2.0",
      "_view_name": "StyleView",
      "bar_color": null,
      "description_width": ""
     }
    },
    "201a41be363549eaa0fdc903fb41f83e": {
     "model_module": "@jupyter-widgets/base",
     "model_module_version": "1.2.0",
     "model_name": "LayoutModel",
     "state": {
      "_model_module": "@jupyter-widgets/base",
      "_model_module_version": "1.2.0",
      "_model_name": "LayoutModel",
      "_view_count": null,
      "_view_module": "@jupyter-widgets/base",
      "_view_module_version": "1.2.0",
      "_view_name": "LayoutView",
      "align_content": null,
      "align_items": null,
      "align_self": null,
      "border": null,
      "bottom": null,
      "display": null,
      "flex": null,
      "flex_flow": null,
      "grid_area": null,
      "grid_auto_columns": null,
      "grid_auto_flow": null,
      "grid_auto_rows": null,
      "grid_column": null,
      "grid_gap": null,
      "grid_row": null,
      "grid_template_areas": null,
      "grid_template_columns": null,
      "grid_template_rows": null,
      "height": null,
      "justify_content": null,
      "justify_items": null,
      "left": null,
      "margin": null,
      "max_height": null,
      "max_width": null,
      "min_height": null,
      "min_width": null,
      "object_fit": null,
      "object_position": null,
      "order": null,
      "overflow": null,
      "overflow_x": null,
      "overflow_y": null,
      "padding": null,
      "right": null,
      "top": null,
      "visibility": null,
      "width": null
     }
    },
    "286fbf1303dc4f0b9c1bb3cfb34f920e": {
     "model_module": "@jupyter-widgets/controls",
     "model_module_version": "1.5.0",
     "model_name": "ProgressStyleModel",
     "state": {
      "_model_module": "@jupyter-widgets/controls",
      "_model_module_version": "1.5.0",
      "_model_name": "ProgressStyleModel",
      "_view_count": null,
      "_view_module": "@jupyter-widgets/base",
      "_view_module_version": "1.2.0",
      "_view_name": "StyleView",
      "bar_color": null,
      "description_width": ""
     }
    },
    "2a38ec8f52d74e018a4c1876d3a2f874": {
     "model_module": "@jupyter-widgets/controls",
     "model_module_version": "1.5.0",
     "model_name": "HBoxModel",
     "state": {
      "_dom_classes": [],
      "_model_module": "@jupyter-widgets/controls",
      "_model_module_version": "1.5.0",
      "_model_name": "HBoxModel",
      "_view_count": null,
      "_view_module": "@jupyter-widgets/controls",
      "_view_module_version": "1.5.0",
      "_view_name": "HBoxView",
      "box_style": "",
      "children": [
       "IPY_MODEL_fd22c38d837a404ab892ddaddf4a8988",
       "IPY_MODEL_a474d8d377674579b3c9f5327fbb1862",
       "IPY_MODEL_0029cbbc48c64effb57bffff5d199e34"
      ],
      "layout": "IPY_MODEL_e9d2f22400db472283508e8c01f08fbb"
     }
    },
    "2aa0bc933aae46729672d55e60c17616": {
     "model_module": "@jupyter-widgets/controls",
     "model_module_version": "1.5.0",
     "model_name": "FloatProgressModel",
     "state": {
      "_dom_classes": [],
      "_model_module": "@jupyter-widgets/controls",
      "_model_module_version": "1.5.0",
      "_model_name": "FloatProgressModel",
      "_view_count": null,
      "_view_module": "@jupyter-widgets/controls",
      "_view_module_version": "1.5.0",
      "_view_name": "ProgressView",
      "bar_style": "",
      "description": "",
      "description_tooltip": null,
      "layout": "IPY_MODEL_546d1deb5c934916b722fb9ab0ce5e67",
      "max": 11,
      "min": 0,
      "orientation": "horizontal",
      "style": "IPY_MODEL_86ed101f86384b9b92eb3faccae5bca2",
      "value": 11
     }
    },
    "2cb3f56ff669424da4e9bace352831b8": {
     "model_module": "@jupyter-widgets/base",
     "model_module_version": "1.2.0",
     "model_name": "LayoutModel",
     "state": {
      "_model_module": "@jupyter-widgets/base",
      "_model_module_version": "1.2.0",
      "_model_name": "LayoutModel",
      "_view_count": null,
      "_view_module": "@jupyter-widgets/base",
      "_view_module_version": "1.2.0",
      "_view_name": "LayoutView",
      "align_content": null,
      "align_items": null,
      "align_self": null,
      "border": null,
      "bottom": null,
      "display": "inline-flex",
      "flex": null,
      "flex_flow": "row wrap",
      "grid_area": null,
      "grid_auto_columns": null,
      "grid_auto_flow": null,
      "grid_auto_rows": null,
      "grid_column": null,
      "grid_gap": null,
      "grid_row": null,
      "grid_template_areas": null,
      "grid_template_columns": null,
      "grid_template_rows": null,
      "height": null,
      "justify_content": null,
      "justify_items": null,
      "left": null,
      "margin": null,
      "max_height": null,
      "max_width": null,
      "min_height": null,
      "min_width": null,
      "object_fit": null,
      "object_position": null,
      "order": null,
      "overflow": null,
      "overflow_x": null,
      "overflow_y": null,
      "padding": null,
      "right": null,
      "top": null,
      "visibility": "hidden",
      "width": "100%"
     }
    },
    "2d71626a24cb45f39095e7e3fd621707": {
     "model_module": "@jupyter-widgets/controls",
     "model_module_version": "1.5.0",
     "model_name": "HTMLModel",
     "state": {
      "_dom_classes": [],
      "_model_module": "@jupyter-widgets/controls",
      "_model_module_version": "1.5.0",
      "_model_name": "HTMLModel",
      "_view_count": null,
      "_view_module": "@jupyter-widgets/controls",
      "_view_module_version": "1.5.0",
      "_view_name": "HTMLView",
      "description": "",
      "description_tooltip": null,
      "layout": "IPY_MODEL_6fa8591a1a834d8785b1ebe8eff2b10d",
      "placeholder": "​",
      "style": "IPY_MODEL_acfec13aec454320b585c0b8331e9448",
      "value": " 2/2 [00:00&lt;00:00, 14.02it/s]"
     }
    },
    "2d98065fccb34cb1b44740aa4510f0e7": {
     "model_module": "@jupyter-widgets/controls",
     "model_module_version": "1.5.0",
     "model_name": "HTMLModel",
     "state": {
      "_dom_classes": [],
      "_model_module": "@jupyter-widgets/controls",
      "_model_module_version": "1.5.0",
      "_model_name": "HTMLModel",
      "_view_count": null,
      "_view_module": "@jupyter-widgets/controls",
      "_view_module_version": "1.5.0",
      "_view_name": "HTMLView",
      "description": "",
      "description_tooltip": null,
      "layout": "IPY_MODEL_6072601881c341fb8e5329fab05ee52d",
      "placeholder": "​",
      "style": "IPY_MODEL_13a1fd50c8f24f12a0f28485b6168606",
      "value": "Validation DataLoader 0: 100%"
     }
    },
    "2da5b84f9384445a8d9db58ef3dafa5e": {
     "model_module": "@jupyter-widgets/base",
     "model_module_version": "1.2.0",
     "model_name": "LayoutModel",
     "state": {
      "_model_module": "@jupyter-widgets/base",
      "_model_module_version": "1.2.0",
      "_model_name": "LayoutModel",
      "_view_count": null,
      "_view_module": "@jupyter-widgets/base",
      "_view_module_version": "1.2.0",
      "_view_name": "LayoutView",
      "align_content": null,
      "align_items": null,
      "align_self": null,
      "border": null,
      "bottom": null,
      "display": null,
      "flex": null,
      "flex_flow": null,
      "grid_area": null,
      "grid_auto_columns": null,
      "grid_auto_flow": null,
      "grid_auto_rows": null,
      "grid_column": null,
      "grid_gap": null,
      "grid_row": null,
      "grid_template_areas": null,
      "grid_template_columns": null,
      "grid_template_rows": null,
      "height": null,
      "justify_content": null,
      "justify_items": null,
      "left": null,
      "margin": null,
      "max_height": null,
      "max_width": null,
      "min_height": null,
      "min_width": null,
      "object_fit": null,
      "object_position": null,
      "order": null,
      "overflow": null,
      "overflow_x": null,
      "overflow_y": null,
      "padding": null,
      "right": null,
      "top": null,
      "visibility": null,
      "width": null
     }
    },
    "2e02be5bf0be40bf87f1364b1fd587ec": {
     "model_module": "@jupyter-widgets/base",
     "model_module_version": "1.2.0",
     "model_name": "LayoutModel",
     "state": {
      "_model_module": "@jupyter-widgets/base",
      "_model_module_version": "1.2.0",
      "_model_name": "LayoutModel",
      "_view_count": null,
      "_view_module": "@jupyter-widgets/base",
      "_view_module_version": "1.2.0",
      "_view_name": "LayoutView",
      "align_content": null,
      "align_items": null,
      "align_self": null,
      "border": null,
      "bottom": null,
      "display": null,
      "flex": "2",
      "flex_flow": null,
      "grid_area": null,
      "grid_auto_columns": null,
      "grid_auto_flow": null,
      "grid_auto_rows": null,
      "grid_column": null,
      "grid_gap": null,
      "grid_row": null,
      "grid_template_areas": null,
      "grid_template_columns": null,
      "grid_template_rows": null,
      "height": null,
      "justify_content": null,
      "justify_items": null,
      "left": null,
      "margin": null,
      "max_height": null,
      "max_width": null,
      "min_height": null,
      "min_width": null,
      "object_fit": null,
      "object_position": null,
      "order": null,
      "overflow": null,
      "overflow_x": null,
      "overflow_y": null,
      "padding": null,
      "right": null,
      "top": null,
      "visibility": null,
      "width": null
     }
    },
    "2f4dcf310c634bdba125e8bf46d3db26": {
     "model_module": "@jupyter-widgets/base",
     "model_module_version": "1.2.0",
     "model_name": "LayoutModel",
     "state": {
      "_model_module": "@jupyter-widgets/base",
      "_model_module_version": "1.2.0",
      "_model_name": "LayoutModel",
      "_view_count": null,
      "_view_module": "@jupyter-widgets/base",
      "_view_module_version": "1.2.0",
      "_view_name": "LayoutView",
      "align_content": null,
      "align_items": null,
      "align_self": null,
      "border": null,
      "bottom": null,
      "display": "inline-flex",
      "flex": null,
      "flex_flow": "row wrap",
      "grid_area": null,
      "grid_auto_columns": null,
      "grid_auto_flow": null,
      "grid_auto_rows": null,
      "grid_column": null,
      "grid_gap": null,
      "grid_row": null,
      "grid_template_areas": null,
      "grid_template_columns": null,
      "grid_template_rows": null,
      "height": null,
      "justify_content": null,
      "justify_items": null,
      "left": null,
      "margin": null,
      "max_height": null,
      "max_width": null,
      "min_height": null,
      "min_width": null,
      "object_fit": null,
      "object_position": null,
      "order": null,
      "overflow": null,
      "overflow_x": null,
      "overflow_y": null,
      "padding": null,
      "right": null,
      "top": null,
      "visibility": "hidden",
      "width": "100%"
     }
    },
    "3ada921ee7644de997b57ffd2c57044d": {
     "model_module": "@jupyter-widgets/base",
     "model_module_version": "1.2.0",
     "model_name": "LayoutModel",
     "state": {
      "_model_module": "@jupyter-widgets/base",
      "_model_module_version": "1.2.0",
      "_model_name": "LayoutModel",
      "_view_count": null,
      "_view_module": "@jupyter-widgets/base",
      "_view_module_version": "1.2.0",
      "_view_name": "LayoutView",
      "align_content": null,
      "align_items": null,
      "align_self": null,
      "border": null,
      "bottom": null,
      "display": "inline-flex",
      "flex": null,
      "flex_flow": "row wrap",
      "grid_area": null,
      "grid_auto_columns": null,
      "grid_auto_flow": null,
      "grid_auto_rows": null,
      "grid_column": null,
      "grid_gap": null,
      "grid_row": null,
      "grid_template_areas": null,
      "grid_template_columns": null,
      "grid_template_rows": null,
      "height": null,
      "justify_content": null,
      "justify_items": null,
      "left": null,
      "margin": null,
      "max_height": null,
      "max_width": null,
      "min_height": null,
      "min_width": null,
      "object_fit": null,
      "object_position": null,
      "order": null,
      "overflow": null,
      "overflow_x": null,
      "overflow_y": null,
      "padding": null,
      "right": null,
      "top": null,
      "visibility": null,
      "width": "100%"
     }
    },
    "3dc20b49832e46c6ad70dc754f43555f": {
     "model_module": "@jupyter-widgets/base",
     "model_module_version": "1.2.0",
     "model_name": "LayoutModel",
     "state": {
      "_model_module": "@jupyter-widgets/base",
      "_model_module_version": "1.2.0",
      "_model_name": "LayoutModel",
      "_view_count": null,
      "_view_module": "@jupyter-widgets/base",
      "_view_module_version": "1.2.0",
      "_view_name": "LayoutView",
      "align_content": null,
      "align_items": null,
      "align_self": null,
      "border": null,
      "bottom": null,
      "display": null,
      "flex": null,
      "flex_flow": null,
      "grid_area": null,
      "grid_auto_columns": null,
      "grid_auto_flow": null,
      "grid_auto_rows": null,
      "grid_column": null,
      "grid_gap": null,
      "grid_row": null,
      "grid_template_areas": null,
      "grid_template_columns": null,
      "grid_template_rows": null,
      "height": null,
      "justify_content": null,
      "justify_items": null,
      "left": null,
      "margin": null,
      "max_height": null,
      "max_width": null,
      "min_height": null,
      "min_width": null,
      "object_fit": null,
      "object_position": null,
      "order": null,
      "overflow": null,
      "overflow_x": null,
      "overflow_y": null,
      "padding": null,
      "right": null,
      "top": null,
      "visibility": null,
      "width": null
     }
    },
    "3ef009aeabae43b48bc913a592d1a019": {
     "model_module": "@jupyter-widgets/controls",
     "model_module_version": "1.5.0",
     "model_name": "HBoxModel",
     "state": {
      "_dom_classes": [],
      "_model_module": "@jupyter-widgets/controls",
      "_model_module_version": "1.5.0",
      "_model_name": "HBoxModel",
      "_view_count": null,
      "_view_module": "@jupyter-widgets/controls",
      "_view_module_version": "1.5.0",
      "_view_name": "HBoxView",
      "box_style": "",
      "children": [
       "IPY_MODEL_75b99a050a37493389ff96724a9a3b72",
       "IPY_MODEL_78fe9e3a3d614de9a6f3efacde67d247",
       "IPY_MODEL_2d71626a24cb45f39095e7e3fd621707"
      ],
      "layout": "IPY_MODEL_4f75594be29e49cc99fe61a6787e7564"
     }
    },
    "46204f92abf1414da360d79b4ca7a924": {
     "model_module": "@jupyter-widgets/base",
     "model_module_version": "1.2.0",
     "model_name": "LayoutModel",
     "state": {
      "_model_module": "@jupyter-widgets/base",
      "_model_module_version": "1.2.0",
      "_model_name": "LayoutModel",
      "_view_count": null,
      "_view_module": "@jupyter-widgets/base",
      "_view_module_version": "1.2.0",
      "_view_name": "LayoutView",
      "align_content": null,
      "align_items": null,
      "align_self": null,
      "border": null,
      "bottom": null,
      "display": null,
      "flex": null,
      "flex_flow": null,
      "grid_area": null,
      "grid_auto_columns": null,
      "grid_auto_flow": null,
      "grid_auto_rows": null,
      "grid_column": null,
      "grid_gap": null,
      "grid_row": null,
      "grid_template_areas": null,
      "grid_template_columns": null,
      "grid_template_rows": null,
      "height": null,
      "justify_content": null,
      "justify_items": null,
      "left": null,
      "margin": null,
      "max_height": null,
      "max_width": null,
      "min_height": null,
      "min_width": null,
      "object_fit": null,
      "object_position": null,
      "order": null,
      "overflow": null,
      "overflow_x": null,
      "overflow_y": null,
      "padding": null,
      "right": null,
      "top": null,
      "visibility": null,
      "width": null
     }
    },
    "4f75594be29e49cc99fe61a6787e7564": {
     "model_module": "@jupyter-widgets/base",
     "model_module_version": "1.2.0",
     "model_name": "LayoutModel",
     "state": {
      "_model_module": "@jupyter-widgets/base",
      "_model_module_version": "1.2.0",
      "_model_name": "LayoutModel",
      "_view_count": null,
      "_view_module": "@jupyter-widgets/base",
      "_view_module_version": "1.2.0",
      "_view_name": "LayoutView",
      "align_content": null,
      "align_items": null,
      "align_self": null,
      "border": null,
      "bottom": null,
      "display": "inline-flex",
      "flex": null,
      "flex_flow": "row wrap",
      "grid_area": null,
      "grid_auto_columns": null,
      "grid_auto_flow": null,
      "grid_auto_rows": null,
      "grid_column": null,
      "grid_gap": null,
      "grid_row": null,
      "grid_template_areas": null,
      "grid_template_columns": null,
      "grid_template_rows": null,
      "height": null,
      "justify_content": null,
      "justify_items": null,
      "left": null,
      "margin": null,
      "max_height": null,
      "max_width": null,
      "min_height": null,
      "min_width": null,
      "object_fit": null,
      "object_position": null,
      "order": null,
      "overflow": null,
      "overflow_x": null,
      "overflow_y": null,
      "padding": null,
      "right": null,
      "top": null,
      "visibility": "hidden",
      "width": "100%"
     }
    },
    "515318593400421487560182023801f1": {
     "model_module": "@jupyter-widgets/controls",
     "model_module_version": "1.5.0",
     "model_name": "DescriptionStyleModel",
     "state": {
      "_model_module": "@jupyter-widgets/controls",
      "_model_module_version": "1.5.0",
      "_model_name": "DescriptionStyleModel",
      "_view_count": null,
      "_view_module": "@jupyter-widgets/base",
      "_view_module_version": "1.2.0",
      "_view_name": "StyleView",
      "description_width": ""
     }
    },
    "534e121744814f4d8880072004513e37": {
     "model_module": "@jupyter-widgets/controls",
     "model_module_version": "1.5.0",
     "model_name": "DescriptionStyleModel",
     "state": {
      "_model_module": "@jupyter-widgets/controls",
      "_model_module_version": "1.5.0",
      "_model_name": "DescriptionStyleModel",
      "_view_count": null,
      "_view_module": "@jupyter-widgets/base",
      "_view_module_version": "1.2.0",
      "_view_name": "StyleView",
      "description_width": ""
     }
    },
    "546d1deb5c934916b722fb9ab0ce5e67": {
     "model_module": "@jupyter-widgets/base",
     "model_module_version": "1.2.0",
     "model_name": "LayoutModel",
     "state": {
      "_model_module": "@jupyter-widgets/base",
      "_model_module_version": "1.2.0",
      "_model_name": "LayoutModel",
      "_view_count": null,
      "_view_module": "@jupyter-widgets/base",
      "_view_module_version": "1.2.0",
      "_view_name": "LayoutView",
      "align_content": null,
      "align_items": null,
      "align_self": null,
      "border": null,
      "bottom": null,
      "display": null,
      "flex": "2",
      "flex_flow": null,
      "grid_area": null,
      "grid_auto_columns": null,
      "grid_auto_flow": null,
      "grid_auto_rows": null,
      "grid_column": null,
      "grid_gap": null,
      "grid_row": null,
      "grid_template_areas": null,
      "grid_template_columns": null,
      "grid_template_rows": null,
      "height": null,
      "justify_content": null,
      "justify_items": null,
      "left": null,
      "margin": null,
      "max_height": null,
      "max_width": null,
      "min_height": null,
      "min_width": null,
      "object_fit": null,
      "object_position": null,
      "order": null,
      "overflow": null,
      "overflow_x": null,
      "overflow_y": null,
      "padding": null,
      "right": null,
      "top": null,
      "visibility": null,
      "width": null
     }
    },
    "560450b99c8f4636b3a700db3fc21253": {
     "model_module": "@jupyter-widgets/controls",
     "model_module_version": "1.5.0",
     "model_name": "ProgressStyleModel",
     "state": {
      "_model_module": "@jupyter-widgets/controls",
      "_model_module_version": "1.5.0",
      "_model_name": "ProgressStyleModel",
      "_view_count": null,
      "_view_module": "@jupyter-widgets/base",
      "_view_module_version": "1.2.0",
      "_view_name": "StyleView",
      "bar_color": null,
      "description_width": ""
     }
    },
    "58fbdeafd7ee40cd9392cd4a62c49b81": {
     "model_module": "@jupyter-widgets/base",
     "model_module_version": "1.2.0",
     "model_name": "LayoutModel",
     "state": {
      "_model_module": "@jupyter-widgets/base",
      "_model_module_version": "1.2.0",
      "_model_name": "LayoutModel",
      "_view_count": null,
      "_view_module": "@jupyter-widgets/base",
      "_view_module_version": "1.2.0",
      "_view_name": "LayoutView",
      "align_content": null,
      "align_items": null,
      "align_self": null,
      "border": null,
      "bottom": null,
      "display": null,
      "flex": "2",
      "flex_flow": null,
      "grid_area": null,
      "grid_auto_columns": null,
      "grid_auto_flow": null,
      "grid_auto_rows": null,
      "grid_column": null,
      "grid_gap": null,
      "grid_row": null,
      "grid_template_areas": null,
      "grid_template_columns": null,
      "grid_template_rows": null,
      "height": null,
      "justify_content": null,
      "justify_items": null,
      "left": null,
      "margin": null,
      "max_height": null,
      "max_width": null,
      "min_height": null,
      "min_width": null,
      "object_fit": null,
      "object_position": null,
      "order": null,
      "overflow": null,
      "overflow_x": null,
      "overflow_y": null,
      "padding": null,
      "right": null,
      "top": null,
      "visibility": null,
      "width": null
     }
    },
    "5d422f8cbd47402bb8f28b258e5abed0": {
     "model_module": "@jupyter-widgets/base",
     "model_module_version": "1.2.0",
     "model_name": "LayoutModel",
     "state": {
      "_model_module": "@jupyter-widgets/base",
      "_model_module_version": "1.2.0",
      "_model_name": "LayoutModel",
      "_view_count": null,
      "_view_module": "@jupyter-widgets/base",
      "_view_module_version": "1.2.0",
      "_view_name": "LayoutView",
      "align_content": null,
      "align_items": null,
      "align_self": null,
      "border": null,
      "bottom": null,
      "display": null,
      "flex": null,
      "flex_flow": null,
      "grid_area": null,
      "grid_auto_columns": null,
      "grid_auto_flow": null,
      "grid_auto_rows": null,
      "grid_column": null,
      "grid_gap": null,
      "grid_row": null,
      "grid_template_areas": null,
      "grid_template_columns": null,
      "grid_template_rows": null,
      "height": null,
      "justify_content": null,
      "justify_items": null,
      "left": null,
      "margin": null,
      "max_height": null,
      "max_width": null,
      "min_height": null,
      "min_width": null,
      "object_fit": null,
      "object_position": null,
      "order": null,
      "overflow": null,
      "overflow_x": null,
      "overflow_y": null,
      "padding": null,
      "right": null,
      "top": null,
      "visibility": null,
      "width": null
     }
    },
    "5db675de6b8348e9a9823384541bdfff": {
     "model_module": "@jupyter-widgets/controls",
     "model_module_version": "1.5.0",
     "model_name": "ProgressStyleModel",
     "state": {
      "_model_module": "@jupyter-widgets/controls",
      "_model_module_version": "1.5.0",
      "_model_name": "ProgressStyleModel",
      "_view_count": null,
      "_view_module": "@jupyter-widgets/base",
      "_view_module_version": "1.2.0",
      "_view_name": "StyleView",
      "bar_color": null,
      "description_width": ""
     }
    },
    "6072601881c341fb8e5329fab05ee52d": {
     "model_module": "@jupyter-widgets/base",
     "model_module_version": "1.2.0",
     "model_name": "LayoutModel",
     "state": {
      "_model_module": "@jupyter-widgets/base",
      "_model_module_version": "1.2.0",
      "_model_name": "LayoutModel",
      "_view_count": null,
      "_view_module": "@jupyter-widgets/base",
      "_view_module_version": "1.2.0",
      "_view_name": "LayoutView",
      "align_content": null,
      "align_items": null,
      "align_self": null,
      "border": null,
      "bottom": null,
      "display": null,
      "flex": null,
      "flex_flow": null,
      "grid_area": null,
      "grid_auto_columns": null,
      "grid_auto_flow": null,
      "grid_auto_rows": null,
      "grid_column": null,
      "grid_gap": null,
      "grid_row": null,
      "grid_template_areas": null,
      "grid_template_columns": null,
      "grid_template_rows": null,
      "height": null,
      "justify_content": null,
      "justify_items": null,
      "left": null,
      "margin": null,
      "max_height": null,
      "max_width": null,
      "min_height": null,
      "min_width": null,
      "object_fit": null,
      "object_position": null,
      "order": null,
      "overflow": null,
      "overflow_x": null,
      "overflow_y": null,
      "padding": null,
      "right": null,
      "top": null,
      "visibility": null,
      "width": null
     }
    },
    "60c4aa6c4c8145949cd16ec0670227a1": {
     "model_module": "@jupyter-widgets/controls",
     "model_module_version": "1.5.0",
     "model_name": "DescriptionStyleModel",
     "state": {
      "_model_module": "@jupyter-widgets/controls",
      "_model_module_version": "1.5.0",
      "_model_name": "DescriptionStyleModel",
      "_view_count": null,
      "_view_module": "@jupyter-widgets/base",
      "_view_module_version": "1.2.0",
      "_view_name": "StyleView",
      "description_width": ""
     }
    },
    "6351ca36d8d648afa472093df7e73e45": {
     "model_module": "@jupyter-widgets/controls",
     "model_module_version": "1.5.0",
     "model_name": "FloatProgressModel",
     "state": {
      "_dom_classes": [],
      "_model_module": "@jupyter-widgets/controls",
      "_model_module_version": "1.5.0",
      "_model_name": "FloatProgressModel",
      "_view_count": null,
      "_view_module": "@jupyter-widgets/controls",
      "_view_module_version": "1.5.0",
      "_view_name": "ProgressView",
      "bar_style": "",
      "description": "",
      "description_tooltip": null,
      "layout": "IPY_MODEL_7a6a637bb7664b4495b2b56b45d88ee4",
      "max": 11,
      "min": 0,
      "orientation": "horizontal",
      "style": "IPY_MODEL_74bf3b2a873e40ffa139f1afe652ffe8",
      "value": 11
     }
    },
    "640ac5a06820498585c48a1b69355d0d": {
     "model_module": "@jupyter-widgets/base",
     "model_module_version": "1.2.0",
     "model_name": "LayoutModel",
     "state": {
      "_model_module": "@jupyter-widgets/base",
      "_model_module_version": "1.2.0",
      "_model_name": "LayoutModel",
      "_view_count": null,
      "_view_module": "@jupyter-widgets/base",
      "_view_module_version": "1.2.0",
      "_view_name": "LayoutView",
      "align_content": null,
      "align_items": null,
      "align_self": null,
      "border": null,
      "bottom": null,
      "display": null,
      "flex": null,
      "flex_flow": null,
      "grid_area": null,
      "grid_auto_columns": null,
      "grid_auto_flow": null,
      "grid_auto_rows": null,
      "grid_column": null,
      "grid_gap": null,
      "grid_row": null,
      "grid_template_areas": null,
      "grid_template_columns": null,
      "grid_template_rows": null,
      "height": null,
      "justify_content": null,
      "justify_items": null,
      "left": null,
      "margin": null,
      "max_height": null,
      "max_width": null,
      "min_height": null,
      "min_width": null,
      "object_fit": null,
      "object_position": null,
      "order": null,
      "overflow": null,
      "overflow_x": null,
      "overflow_y": null,
      "padding": null,
      "right": null,
      "top": null,
      "visibility": null,
      "width": null
     }
    },
    "6769dc278aae487db30d78caa97c6dd8": {
     "model_module": "@jupyter-widgets/controls",
     "model_module_version": "1.5.0",
     "model_name": "FloatProgressModel",
     "state": {
      "_dom_classes": [],
      "_model_module": "@jupyter-widgets/controls",
      "_model_module_version": "1.5.0",
      "_model_name": "FloatProgressModel",
      "_view_count": null,
      "_view_module": "@jupyter-widgets/controls",
      "_view_module_version": "1.5.0",
      "_view_name": "ProgressView",
      "bar_style": "",
      "description": "",
      "description_tooltip": null,
      "layout": "IPY_MODEL_71c435b7fa6f4a0fb44a4c8a8b5a73f6",
      "max": 11,
      "min": 0,
      "orientation": "horizontal",
      "style": "IPY_MODEL_c05c8b6064f94652a1f2ed5c3bb7c2b0",
      "value": 11
     }
    },
    "6fa8591a1a834d8785b1ebe8eff2b10d": {
     "model_module": "@jupyter-widgets/base",
     "model_module_version": "1.2.0",
     "model_name": "LayoutModel",
     "state": {
      "_model_module": "@jupyter-widgets/base",
      "_model_module_version": "1.2.0",
      "_model_name": "LayoutModel",
      "_view_count": null,
      "_view_module": "@jupyter-widgets/base",
      "_view_module_version": "1.2.0",
      "_view_name": "LayoutView",
      "align_content": null,
      "align_items": null,
      "align_self": null,
      "border": null,
      "bottom": null,
      "display": null,
      "flex": null,
      "flex_flow": null,
      "grid_area": null,
      "grid_auto_columns": null,
      "grid_auto_flow": null,
      "grid_auto_rows": null,
      "grid_column": null,
      "grid_gap": null,
      "grid_row": null,
      "grid_template_areas": null,
      "grid_template_columns": null,
      "grid_template_rows": null,
      "height": null,
      "justify_content": null,
      "justify_items": null,
      "left": null,
      "margin": null,
      "max_height": null,
      "max_width": null,
      "min_height": null,
      "min_width": null,
      "object_fit": null,
      "object_position": null,
      "order": null,
      "overflow": null,
      "overflow_x": null,
      "overflow_y": null,
      "padding": null,
      "right": null,
      "top": null,
      "visibility": null,
      "width": null
     }
    },
    "71c435b7fa6f4a0fb44a4c8a8b5a73f6": {
     "model_module": "@jupyter-widgets/base",
     "model_module_version": "1.2.0",
     "model_name": "LayoutModel",
     "state": {
      "_model_module": "@jupyter-widgets/base",
      "_model_module_version": "1.2.0",
      "_model_name": "LayoutModel",
      "_view_count": null,
      "_view_module": "@jupyter-widgets/base",
      "_view_module_version": "1.2.0",
      "_view_name": "LayoutView",
      "align_content": null,
      "align_items": null,
      "align_self": null,
      "border": null,
      "bottom": null,
      "display": null,
      "flex": "2",
      "flex_flow": null,
      "grid_area": null,
      "grid_auto_columns": null,
      "grid_auto_flow": null,
      "grid_auto_rows": null,
      "grid_column": null,
      "grid_gap": null,
      "grid_row": null,
      "grid_template_areas": null,
      "grid_template_columns": null,
      "grid_template_rows": null,
      "height": null,
      "justify_content": null,
      "justify_items": null,
      "left": null,
      "margin": null,
      "max_height": null,
      "max_width": null,
      "min_height": null,
      "min_width": null,
      "object_fit": null,
      "object_position": null,
      "order": null,
      "overflow": null,
      "overflow_x": null,
      "overflow_y": null,
      "padding": null,
      "right": null,
      "top": null,
      "visibility": null,
      "width": null
     }
    },
    "74bf3b2a873e40ffa139f1afe652ffe8": {
     "model_module": "@jupyter-widgets/controls",
     "model_module_version": "1.5.0",
     "model_name": "ProgressStyleModel",
     "state": {
      "_model_module": "@jupyter-widgets/controls",
      "_model_module_version": "1.5.0",
      "_model_name": "ProgressStyleModel",
      "_view_count": null,
      "_view_module": "@jupyter-widgets/base",
      "_view_module_version": "1.2.0",
      "_view_name": "StyleView",
      "bar_color": null,
      "description_width": ""
     }
    },
    "75b99a050a37493389ff96724a9a3b72": {
     "model_module": "@jupyter-widgets/controls",
     "model_module_version": "1.5.0",
     "model_name": "HTMLModel",
     "state": {
      "_dom_classes": [],
      "_model_module": "@jupyter-widgets/controls",
      "_model_module_version": "1.5.0",
      "_model_name": "HTMLModel",
      "_view_count": null,
      "_view_module": "@jupyter-widgets/controls",
      "_view_module_version": "1.5.0",
      "_view_name": "HTMLView",
      "description": "",
      "description_tooltip": null,
      "layout": "IPY_MODEL_9ab912602cc24346a011fdf58feafbde",
      "placeholder": "​",
      "style": "IPY_MODEL_af211f3be2ce4fb1b6733fa552ed041b",
      "value": "Sanity Checking DataLoader 0: 100%"
     }
    },
    "78fe9e3a3d614de9a6f3efacde67d247": {
     "model_module": "@jupyter-widgets/controls",
     "model_module_version": "1.5.0",
     "model_name": "FloatProgressModel",
     "state": {
      "_dom_classes": [],
      "_model_module": "@jupyter-widgets/controls",
      "_model_module_version": "1.5.0",
      "_model_name": "FloatProgressModel",
      "_view_count": null,
      "_view_module": "@jupyter-widgets/controls",
      "_view_module_version": "1.5.0",
      "_view_name": "ProgressView",
      "bar_style": "",
      "description": "",
      "description_tooltip": null,
      "layout": "IPY_MODEL_84f32a71a7cd4de6b55a9558717d00ef",
      "max": 2,
      "min": 0,
      "orientation": "horizontal",
      "style": "IPY_MODEL_5db675de6b8348e9a9823384541bdfff",
      "value": 2
     }
    },
    "7a6a637bb7664b4495b2b56b45d88ee4": {
     "model_module": "@jupyter-widgets/base",
     "model_module_version": "1.2.0",
     "model_name": "LayoutModel",
     "state": {
      "_model_module": "@jupyter-widgets/base",
      "_model_module_version": "1.2.0",
      "_model_name": "LayoutModel",
      "_view_count": null,
      "_view_module": "@jupyter-widgets/base",
      "_view_module_version": "1.2.0",
      "_view_name": "LayoutView",
      "align_content": null,
      "align_items": null,
      "align_self": null,
      "border": null,
      "bottom": null,
      "display": null,
      "flex": "2",
      "flex_flow": null,
      "grid_area": null,
      "grid_auto_columns": null,
      "grid_auto_flow": null,
      "grid_auto_rows": null,
      "grid_column": null,
      "grid_gap": null,
      "grid_row": null,
      "grid_template_areas": null,
      "grid_template_columns": null,
      "grid_template_rows": null,
      "height": null,
      "justify_content": null,
      "justify_items": null,
      "left": null,
      "margin": null,
      "max_height": null,
      "max_width": null,
      "min_height": null,
      "min_width": null,
      "object_fit": null,
      "object_position": null,
      "order": null,
      "overflow": null,
      "overflow_x": null,
      "overflow_y": null,
      "padding": null,
      "right": null,
      "top": null,
      "visibility": null,
      "width": null
     }
    },
    "7bb5cc7b77654cc0b27a22552941a1ce": {
     "model_module": "@jupyter-widgets/controls",
     "model_module_version": "1.5.0",
     "model_name": "DescriptionStyleModel",
     "state": {
      "_model_module": "@jupyter-widgets/controls",
      "_model_module_version": "1.5.0",
      "_model_name": "DescriptionStyleModel",
      "_view_count": null,
      "_view_module": "@jupyter-widgets/base",
      "_view_module_version": "1.2.0",
      "_view_name": "StyleView",
      "description_width": ""
     }
    },
    "7bd174d7cd2346be9db9d5a0a170f8cb": {
     "model_module": "@jupyter-widgets/controls",
     "model_module_version": "1.5.0",
     "model_name": "HTMLModel",
     "state": {
      "_dom_classes": [],
      "_model_module": "@jupyter-widgets/controls",
      "_model_module_version": "1.5.0",
      "_model_name": "HTMLModel",
      "_view_count": null,
      "_view_module": "@jupyter-widgets/controls",
      "_view_module_version": "1.5.0",
      "_view_name": "HTMLView",
      "description": "",
      "description_tooltip": null,
      "layout": "IPY_MODEL_2da5b84f9384445a8d9db58ef3dafa5e",
      "placeholder": "​",
      "style": "IPY_MODEL_abcb57f0947f413d9cb83c62c6529562",
      "value": " 2139/2139 [00:17&lt;00:00, 122.83it/s, v_num=1, train_loss=7.280, val_loss=10.70]"
     }
    },
    "7dc052c589534aa986569d863596a2a3": {
     "model_module": "@jupyter-widgets/base",
     "model_module_version": "1.2.0",
     "model_name": "LayoutModel",
     "state": {
      "_model_module": "@jupyter-widgets/base",
      "_model_module_version": "1.2.0",
      "_model_name": "LayoutModel",
      "_view_count": null,
      "_view_module": "@jupyter-widgets/base",
      "_view_module_version": "1.2.0",
      "_view_name": "LayoutView",
      "align_content": null,
      "align_items": null,
      "align_self": null,
      "border": null,
      "bottom": null,
      "display": "inline-flex",
      "flex": null,
      "flex_flow": "row wrap",
      "grid_area": null,
      "grid_auto_columns": null,
      "grid_auto_flow": null,
      "grid_auto_rows": null,
      "grid_column": null,
      "grid_gap": null,
      "grid_row": null,
      "grid_template_areas": null,
      "grid_template_columns": null,
      "grid_template_rows": null,
      "height": null,
      "justify_content": null,
      "justify_items": null,
      "left": null,
      "margin": null,
      "max_height": null,
      "max_width": null,
      "min_height": null,
      "min_width": null,
      "object_fit": null,
      "object_position": null,
      "order": null,
      "overflow": null,
      "overflow_x": null,
      "overflow_y": null,
      "padding": null,
      "right": null,
      "top": null,
      "visibility": "hidden",
      "width": "100%"
     }
    },
    "80d177b53a5f4fe0a733d3b7d36e9b30": {
     "model_module": "@jupyter-widgets/controls",
     "model_module_version": "1.5.0",
     "model_name": "DescriptionStyleModel",
     "state": {
      "_model_module": "@jupyter-widgets/controls",
      "_model_module_version": "1.5.0",
      "_model_name": "DescriptionStyleModel",
      "_view_count": null,
      "_view_module": "@jupyter-widgets/base",
      "_view_module_version": "1.2.0",
      "_view_name": "StyleView",
      "description_width": ""
     }
    },
    "84f32a71a7cd4de6b55a9558717d00ef": {
     "model_module": "@jupyter-widgets/base",
     "model_module_version": "1.2.0",
     "model_name": "LayoutModel",
     "state": {
      "_model_module": "@jupyter-widgets/base",
      "_model_module_version": "1.2.0",
      "_model_name": "LayoutModel",
      "_view_count": null,
      "_view_module": "@jupyter-widgets/base",
      "_view_module_version": "1.2.0",
      "_view_name": "LayoutView",
      "align_content": null,
      "align_items": null,
      "align_self": null,
      "border": null,
      "bottom": null,
      "display": null,
      "flex": "2",
      "flex_flow": null,
      "grid_area": null,
      "grid_auto_columns": null,
      "grid_auto_flow": null,
      "grid_auto_rows": null,
      "grid_column": null,
      "grid_gap": null,
      "grid_row": null,
      "grid_template_areas": null,
      "grid_template_columns": null,
      "grid_template_rows": null,
      "height": null,
      "justify_content": null,
      "justify_items": null,
      "left": null,
      "margin": null,
      "max_height": null,
      "max_width": null,
      "min_height": null,
      "min_width": null,
      "object_fit": null,
      "object_position": null,
      "order": null,
      "overflow": null,
      "overflow_x": null,
      "overflow_y": null,
      "padding": null,
      "right": null,
      "top": null,
      "visibility": null,
      "width": null
     }
    },
    "86ed101f86384b9b92eb3faccae5bca2": {
     "model_module": "@jupyter-widgets/controls",
     "model_module_version": "1.5.0",
     "model_name": "ProgressStyleModel",
     "state": {
      "_model_module": "@jupyter-widgets/controls",
      "_model_module_version": "1.5.0",
      "_model_name": "ProgressStyleModel",
      "_view_count": null,
      "_view_module": "@jupyter-widgets/base",
      "_view_module_version": "1.2.0",
      "_view_name": "StyleView",
      "bar_color": null,
      "description_width": ""
     }
    },
    "8fc5cc9d0df74d5081fa3f8c89595daf": {
     "model_module": "@jupyter-widgets/base",
     "model_module_version": "1.2.0",
     "model_name": "LayoutModel",
     "state": {
      "_model_module": "@jupyter-widgets/base",
      "_model_module_version": "1.2.0",
      "_model_name": "LayoutModel",
      "_view_count": null,
      "_view_module": "@jupyter-widgets/base",
      "_view_module_version": "1.2.0",
      "_view_name": "LayoutView",
      "align_content": null,
      "align_items": null,
      "align_self": null,
      "border": null,
      "bottom": null,
      "display": null,
      "flex": null,
      "flex_flow": null,
      "grid_area": null,
      "grid_auto_columns": null,
      "grid_auto_flow": null,
      "grid_auto_rows": null,
      "grid_column": null,
      "grid_gap": null,
      "grid_row": null,
      "grid_template_areas": null,
      "grid_template_columns": null,
      "grid_template_rows": null,
      "height": null,
      "justify_content": null,
      "justify_items": null,
      "left": null,
      "margin": null,
      "max_height": null,
      "max_width": null,
      "min_height": null,
      "min_width": null,
      "object_fit": null,
      "object_position": null,
      "order": null,
      "overflow": null,
      "overflow_x": null,
      "overflow_y": null,
      "padding": null,
      "right": null,
      "top": null,
      "visibility": null,
      "width": null
     }
    },
    "938d3da0eef54ee997fc0ce7ccf1807b": {
     "model_module": "@jupyter-widgets/base",
     "model_module_version": "1.2.0",
     "model_name": "LayoutModel",
     "state": {
      "_model_module": "@jupyter-widgets/base",
      "_model_module_version": "1.2.0",
      "_model_name": "LayoutModel",
      "_view_count": null,
      "_view_module": "@jupyter-widgets/base",
      "_view_module_version": "1.2.0",
      "_view_name": "LayoutView",
      "align_content": null,
      "align_items": null,
      "align_self": null,
      "border": null,
      "bottom": null,
      "display": null,
      "flex": "2",
      "flex_flow": null,
      "grid_area": null,
      "grid_auto_columns": null,
      "grid_auto_flow": null,
      "grid_auto_rows": null,
      "grid_column": null,
      "grid_gap": null,
      "grid_row": null,
      "grid_template_areas": null,
      "grid_template_columns": null,
      "grid_template_rows": null,
      "height": null,
      "justify_content": null,
      "justify_items": null,
      "left": null,
      "margin": null,
      "max_height": null,
      "max_width": null,
      "min_height": null,
      "min_width": null,
      "object_fit": null,
      "object_position": null,
      "order": null,
      "overflow": null,
      "overflow_x": null,
      "overflow_y": null,
      "padding": null,
      "right": null,
      "top": null,
      "visibility": null,
      "width": null
     }
    },
    "950950a569914ad1a263f3f295e57852": {
     "model_module": "@jupyter-widgets/controls",
     "model_module_version": "1.5.0",
     "model_name": "HTMLModel",
     "state": {
      "_dom_classes": [],
      "_model_module": "@jupyter-widgets/controls",
      "_model_module_version": "1.5.0",
      "_model_name": "HTMLModel",
      "_view_count": null,
      "_view_module": "@jupyter-widgets/controls",
      "_view_module_version": "1.5.0",
      "_view_name": "HTMLView",
      "description": "",
      "description_tooltip": null,
      "layout": "IPY_MODEL_cba28fcac7c349e8ac9794d507768744",
      "placeholder": "​",
      "style": "IPY_MODEL_7bb5cc7b77654cc0b27a22552941a1ce",
      "value": " 11/11 [00:00&lt;00:00, 23.50it/s]"
     }
    },
    "9ab912602cc24346a011fdf58feafbde": {
     "model_module": "@jupyter-widgets/base",
     "model_module_version": "1.2.0",
     "model_name": "LayoutModel",
     "state": {
      "_model_module": "@jupyter-widgets/base",
      "_model_module_version": "1.2.0",
      "_model_name": "LayoutModel",
      "_view_count": null,
      "_view_module": "@jupyter-widgets/base",
      "_view_module_version": "1.2.0",
      "_view_name": "LayoutView",
      "align_content": null,
      "align_items": null,
      "align_self": null,
      "border": null,
      "bottom": null,
      "display": null,
      "flex": null,
      "flex_flow": null,
      "grid_area": null,
      "grid_auto_columns": null,
      "grid_auto_flow": null,
      "grid_auto_rows": null,
      "grid_column": null,
      "grid_gap": null,
      "grid_row": null,
      "grid_template_areas": null,
      "grid_template_columns": null,
      "grid_template_rows": null,
      "height": null,
      "justify_content": null,
      "justify_items": null,
      "left": null,
      "margin": null,
      "max_height": null,
      "max_width": null,
      "min_height": null,
      "min_width": null,
      "object_fit": null,
      "object_position": null,
      "order": null,
      "overflow": null,
      "overflow_x": null,
      "overflow_y": null,
      "padding": null,
      "right": null,
      "top": null,
      "visibility": null,
      "width": null
     }
    },
    "9ec11067fc81414d97457b47e93b78a1": {
     "model_module": "@jupyter-widgets/controls",
     "model_module_version": "1.5.0",
     "model_name": "HTMLModel",
     "state": {
      "_dom_classes": [],
      "_model_module": "@jupyter-widgets/controls",
      "_model_module_version": "1.5.0",
      "_model_name": "HTMLModel",
      "_view_count": null,
      "_view_module": "@jupyter-widgets/controls",
      "_view_module_version": "1.5.0",
      "_view_name": "HTMLView",
      "description": "",
      "description_tooltip": null,
      "layout": "IPY_MODEL_3dc20b49832e46c6ad70dc754f43555f",
      "placeholder": "​",
      "style": "IPY_MODEL_100219bd594645c5b60c3da4a44344fe",
      "value": "Validation DataLoader 0: 100%"
     }
    },
    "a2903f89f4584f16b9f5b412d2730672": {
     "model_module": "@jupyter-widgets/controls",
     "model_module_version": "1.5.0",
     "model_name": "DescriptionStyleModel",
     "state": {
      "_model_module": "@jupyter-widgets/controls",
      "_model_module_version": "1.5.0",
      "_model_name": "DescriptionStyleModel",
      "_view_count": null,
      "_view_module": "@jupyter-widgets/base",
      "_view_module_version": "1.2.0",
      "_view_name": "StyleView",
      "description_width": ""
     }
    },
    "a474d8d377674579b3c9f5327fbb1862": {
     "model_module": "@jupyter-widgets/controls",
     "model_module_version": "1.5.0",
     "model_name": "FloatProgressModel",
     "state": {
      "_dom_classes": [],
      "_model_module": "@jupyter-widgets/controls",
      "_model_module_version": "1.5.0",
      "_model_name": "FloatProgressModel",
      "_view_count": null,
      "_view_module": "@jupyter-widgets/controls",
      "_view_module_version": "1.5.0",
      "_view_name": "ProgressView",
      "bar_style": "",
      "description": "",
      "description_tooltip": null,
      "layout": "IPY_MODEL_2e02be5bf0be40bf87f1364b1fd587ec",
      "max": 11,
      "min": 0,
      "orientation": "horizontal",
      "style": "IPY_MODEL_560450b99c8f4636b3a700db3fc21253",
      "value": 11
     }
    },
    "abcb57f0947f413d9cb83c62c6529562": {
     "model_module": "@jupyter-widgets/controls",
     "model_module_version": "1.5.0",
     "model_name": "DescriptionStyleModel",
     "state": {
      "_model_module": "@jupyter-widgets/controls",
      "_model_module_version": "1.5.0",
      "_model_name": "DescriptionStyleModel",
      "_view_count": null,
      "_view_module": "@jupyter-widgets/base",
      "_view_module_version": "1.2.0",
      "_view_name": "StyleView",
      "description_width": ""
     }
    },
    "acfec13aec454320b585c0b8331e9448": {
     "model_module": "@jupyter-widgets/controls",
     "model_module_version": "1.5.0",
     "model_name": "DescriptionStyleModel",
     "state": {
      "_model_module": "@jupyter-widgets/controls",
      "_model_module_version": "1.5.0",
      "_model_name": "DescriptionStyleModel",
      "_view_count": null,
      "_view_module": "@jupyter-widgets/base",
      "_view_module_version": "1.2.0",
      "_view_name": "StyleView",
      "description_width": ""
     }
    },
    "af211f3be2ce4fb1b6733fa552ed041b": {
     "model_module": "@jupyter-widgets/controls",
     "model_module_version": "1.5.0",
     "model_name": "DescriptionStyleModel",
     "state": {
      "_model_module": "@jupyter-widgets/controls",
      "_model_module_version": "1.5.0",
      "_model_name": "DescriptionStyleModel",
      "_view_count": null,
      "_view_module": "@jupyter-widgets/base",
      "_view_module_version": "1.2.0",
      "_view_name": "StyleView",
      "description_width": ""
     }
    },
    "b174cb3407a04b2989e6049555265446": {
     "model_module": "@jupyter-widgets/controls",
     "model_module_version": "1.5.0",
     "model_name": "FloatProgressModel",
     "state": {
      "_dom_classes": [],
      "_model_module": "@jupyter-widgets/controls",
      "_model_module_version": "1.5.0",
      "_model_name": "FloatProgressModel",
      "_view_count": null,
      "_view_module": "@jupyter-widgets/controls",
      "_view_module_version": "1.5.0",
      "_view_name": "ProgressView",
      "bar_style": "success",
      "description": "",
      "description_tooltip": null,
      "layout": "IPY_MODEL_938d3da0eef54ee997fc0ce7ccf1807b",
      "max": 2139,
      "min": 0,
      "orientation": "horizontal",
      "style": "IPY_MODEL_1c10405770654b90a3635ba4acabb6ef",
      "value": 2139
     }
    },
    "b23fac677f5e4e8884f84fe60585330d": {
     "model_module": "@jupyter-widgets/controls",
     "model_module_version": "1.5.0",
     "model_name": "HBoxModel",
     "state": {
      "_dom_classes": [],
      "_model_module": "@jupyter-widgets/controls",
      "_model_module_version": "1.5.0",
      "_model_name": "HBoxModel",
      "_view_count": null,
      "_view_module": "@jupyter-widgets/controls",
      "_view_module_version": "1.5.0",
      "_view_name": "HBoxView",
      "box_style": "",
      "children": [
       "IPY_MODEL_1ae57433e573436b8bbdf6c22630930d",
       "IPY_MODEL_6769dc278aae487db30d78caa97c6dd8",
       "IPY_MODEL_b5b6d56829af44d99b904176b9552101"
      ],
      "layout": "IPY_MODEL_7dc052c589534aa986569d863596a2a3"
     }
    },
    "b5b6d56829af44d99b904176b9552101": {
     "model_module": "@jupyter-widgets/controls",
     "model_module_version": "1.5.0",
     "model_name": "HTMLModel",
     "state": {
      "_dom_classes": [],
      "_model_module": "@jupyter-widgets/controls",
      "_model_module_version": "1.5.0",
      "_model_name": "HTMLModel",
      "_view_count": null,
      "_view_module": "@jupyter-widgets/controls",
      "_view_module_version": "1.5.0",
      "_view_name": "HTMLView",
      "description": "",
      "description_tooltip": null,
      "layout": "IPY_MODEL_c44756a0ec83400f9f6daf8d1179ad91",
      "placeholder": "​",
      "style": "IPY_MODEL_a2903f89f4584f16b9f5b412d2730672",
      "value": " 11/11 [00:00&lt;00:00, 27.27it/s]"
     }
    },
    "b6179f72e8f94772a4e1e2a503bc1d47": {
     "model_module": "@jupyter-widgets/controls",
     "model_module_version": "1.5.0",
     "model_name": "HBoxModel",
     "state": {
      "_dom_classes": [],
      "_model_module": "@jupyter-widgets/controls",
      "_model_module_version": "1.5.0",
      "_model_name": "HBoxModel",
      "_view_count": null,
      "_view_module": "@jupyter-widgets/controls",
      "_view_module_version": "1.5.0",
      "_view_name": "HBoxView",
      "box_style": "",
      "children": [
       "IPY_MODEL_9ec11067fc81414d97457b47e93b78a1",
       "IPY_MODEL_6351ca36d8d648afa472093df7e73e45",
       "IPY_MODEL_d1efd4fe9adc4243a81d401784b77530"
      ],
      "layout": "IPY_MODEL_2cb3f56ff669424da4e9bace352831b8"
     }
    },
    "be93fd003ef54d7e85bb1fcaa894e467": {
     "model_module": "@jupyter-widgets/controls",
     "model_module_version": "1.5.0",
     "model_name": "DescriptionStyleModel",
     "state": {
      "_model_module": "@jupyter-widgets/controls",
      "_model_module_version": "1.5.0",
      "_model_name": "DescriptionStyleModel",
      "_view_count": null,
      "_view_module": "@jupyter-widgets/base",
      "_view_module_version": "1.2.0",
      "_view_name": "StyleView",
      "description_width": ""
     }
    },
    "c05c8b6064f94652a1f2ed5c3bb7c2b0": {
     "model_module": "@jupyter-widgets/controls",
     "model_module_version": "1.5.0",
     "model_name": "ProgressStyleModel",
     "state": {
      "_model_module": "@jupyter-widgets/controls",
      "_model_module_version": "1.5.0",
      "_model_name": "ProgressStyleModel",
      "_view_count": null,
      "_view_module": "@jupyter-widgets/base",
      "_view_module_version": "1.2.0",
      "_view_name": "StyleView",
      "bar_color": null,
      "description_width": ""
     }
    },
    "c44756a0ec83400f9f6daf8d1179ad91": {
     "model_module": "@jupyter-widgets/base",
     "model_module_version": "1.2.0",
     "model_name": "LayoutModel",
     "state": {
      "_model_module": "@jupyter-widgets/base",
      "_model_module_version": "1.2.0",
      "_model_name": "LayoutModel",
      "_view_count": null,
      "_view_module": "@jupyter-widgets/base",
      "_view_module_version": "1.2.0",
      "_view_name": "LayoutView",
      "align_content": null,
      "align_items": null,
      "align_self": null,
      "border": null,
      "bottom": null,
      "display": null,
      "flex": null,
      "flex_flow": null,
      "grid_area": null,
      "grid_auto_columns": null,
      "grid_auto_flow": null,
      "grid_auto_rows": null,
      "grid_column": null,
      "grid_gap": null,
      "grid_row": null,
      "grid_template_areas": null,
      "grid_template_columns": null,
      "grid_template_rows": null,
      "height": null,
      "justify_content": null,
      "justify_items": null,
      "left": null,
      "margin": null,
      "max_height": null,
      "max_width": null,
      "min_height": null,
      "min_width": null,
      "object_fit": null,
      "object_position": null,
      "order": null,
      "overflow": null,
      "overflow_x": null,
      "overflow_y": null,
      "padding": null,
      "right": null,
      "top": null,
      "visibility": null,
      "width": null
     }
    },
    "cba28fcac7c349e8ac9794d507768744": {
     "model_module": "@jupyter-widgets/base",
     "model_module_version": "1.2.0",
     "model_name": "LayoutModel",
     "state": {
      "_model_module": "@jupyter-widgets/base",
      "_model_module_version": "1.2.0",
      "_model_name": "LayoutModel",
      "_view_count": null,
      "_view_module": "@jupyter-widgets/base",
      "_view_module_version": "1.2.0",
      "_view_name": "LayoutView",
      "align_content": null,
      "align_items": null,
      "align_self": null,
      "border": null,
      "bottom": null,
      "display": null,
      "flex": null,
      "flex_flow": null,
      "grid_area": null,
      "grid_auto_columns": null,
      "grid_auto_flow": null,
      "grid_auto_rows": null,
      "grid_column": null,
      "grid_gap": null,
      "grid_row": null,
      "grid_template_areas": null,
      "grid_template_columns": null,
      "grid_template_rows": null,
      "height": null,
      "justify_content": null,
      "justify_items": null,
      "left": null,
      "margin": null,
      "max_height": null,
      "max_width": null,
      "min_height": null,
      "min_width": null,
      "object_fit": null,
      "object_position": null,
      "order": null,
      "overflow": null,
      "overflow_x": null,
      "overflow_y": null,
      "padding": null,
      "right": null,
      "top": null,
      "visibility": null,
      "width": null
     }
    },
    "d1efd4fe9adc4243a81d401784b77530": {
     "model_module": "@jupyter-widgets/controls",
     "model_module_version": "1.5.0",
     "model_name": "HTMLModel",
     "state": {
      "_dom_classes": [],
      "_model_module": "@jupyter-widgets/controls",
      "_model_module_version": "1.5.0",
      "_model_name": "HTMLModel",
      "_view_count": null,
      "_view_module": "@jupyter-widgets/controls",
      "_view_module_version": "1.5.0",
      "_view_name": "HTMLView",
      "description": "",
      "description_tooltip": null,
      "layout": "IPY_MODEL_640ac5a06820498585c48a1b69355d0d",
      "placeholder": "​",
      "style": "IPY_MODEL_515318593400421487560182023801f1",
      "value": " 11/11 [00:00&lt;00:00, 15.17it/s]"
     }
    },
    "d8cd82c7af8747148b5b4750e8f1372a": {
     "model_module": "@jupyter-widgets/controls",
     "model_module_version": "1.5.0",
     "model_name": "HBoxModel",
     "state": {
      "_dom_classes": [],
      "_model_module": "@jupyter-widgets/controls",
      "_model_module_version": "1.5.0",
      "_model_name": "HBoxModel",
      "_view_count": null,
      "_view_module": "@jupyter-widgets/controls",
      "_view_module_version": "1.5.0",
      "_view_name": "HBoxView",
      "box_style": "",
      "children": [
       "IPY_MODEL_17d8af2b171440cba00f8b2df1a08073",
       "IPY_MODEL_fde8213392c546b58ad8a81aacf4fcb3",
       "IPY_MODEL_09093bb710bd4903abf2e10db6efc0a0"
      ],
      "layout": "IPY_MODEL_d92ec28e7e6c47c4b2e3669b502b8b9e"
     }
    },
    "d92ec28e7e6c47c4b2e3669b502b8b9e": {
     "model_module": "@jupyter-widgets/base",
     "model_module_version": "1.2.0",
     "model_name": "LayoutModel",
     "state": {
      "_model_module": "@jupyter-widgets/base",
      "_model_module_version": "1.2.0",
      "_model_name": "LayoutModel",
      "_view_count": null,
      "_view_module": "@jupyter-widgets/base",
      "_view_module_version": "1.2.0",
      "_view_name": "LayoutView",
      "align_content": null,
      "align_items": null,
      "align_self": null,
      "border": null,
      "bottom": null,
      "display": "inline-flex",
      "flex": null,
      "flex_flow": "row wrap",
      "grid_area": null,
      "grid_auto_columns": null,
      "grid_auto_flow": null,
      "grid_auto_rows": null,
      "grid_column": null,
      "grid_gap": null,
      "grid_row": null,
      "grid_template_areas": null,
      "grid_template_columns": null,
      "grid_template_rows": null,
      "height": null,
      "justify_content": null,
      "justify_items": null,
      "left": null,
      "margin": null,
      "max_height": null,
      "max_width": null,
      "min_height": null,
      "min_width": null,
      "object_fit": null,
      "object_position": null,
      "order": null,
      "overflow": null,
      "overflow_x": null,
      "overflow_y": null,
      "padding": null,
      "right": null,
      "top": null,
      "visibility": "hidden",
      "width": "100%"
     }
    },
    "d9456651273140f9bd6e587ab852eeec": {
     "model_module": "@jupyter-widgets/controls",
     "model_module_version": "1.5.0",
     "model_name": "HTMLModel",
     "state": {
      "_dom_classes": [],
      "_model_module": "@jupyter-widgets/controls",
      "_model_module_version": "1.5.0",
      "_model_name": "HTMLModel",
      "_view_count": null,
      "_view_module": "@jupyter-widgets/controls",
      "_view_module_version": "1.5.0",
      "_view_name": "HTMLView",
      "description": "",
      "description_tooltip": null,
      "layout": "IPY_MODEL_17e62da8657f44d9a998f4acbbd29671",
      "placeholder": "​",
      "style": "IPY_MODEL_be93fd003ef54d7e85bb1fcaa894e467",
      "value": "Epoch 4: 100%"
     }
    },
    "e9d2f22400db472283508e8c01f08fbb": {
     "model_module": "@jupyter-widgets/base",
     "model_module_version": "1.2.0",
     "model_name": "LayoutModel",
     "state": {
      "_model_module": "@jupyter-widgets/base",
      "_model_module_version": "1.2.0",
      "_model_name": "LayoutModel",
      "_view_count": null,
      "_view_module": "@jupyter-widgets/base",
      "_view_module_version": "1.2.0",
      "_view_name": "LayoutView",
      "align_content": null,
      "align_items": null,
      "align_self": null,
      "border": null,
      "bottom": null,
      "display": "inline-flex",
      "flex": null,
      "flex_flow": "row wrap",
      "grid_area": null,
      "grid_auto_columns": null,
      "grid_auto_flow": null,
      "grid_auto_rows": null,
      "grid_column": null,
      "grid_gap": null,
      "grid_row": null,
      "grid_template_areas": null,
      "grid_template_columns": null,
      "grid_template_rows": null,
      "height": null,
      "justify_content": null,
      "justify_items": null,
      "left": null,
      "margin": null,
      "max_height": null,
      "max_width": null,
      "min_height": null,
      "min_width": null,
      "object_fit": null,
      "object_position": null,
      "order": null,
      "overflow": null,
      "overflow_x": null,
      "overflow_y": null,
      "padding": null,
      "right": null,
      "top": null,
      "visibility": "hidden",
      "width": "100%"
     }
    },
    "f2b6c28c36e64f66b54834f543cec282": {
     "model_module": "@jupyter-widgets/controls",
     "model_module_version": "1.5.0",
     "model_name": "HBoxModel",
     "state": {
      "_dom_classes": [],
      "_model_module": "@jupyter-widgets/controls",
      "_model_module_version": "1.5.0",
      "_model_name": "HBoxModel",
      "_view_count": null,
      "_view_module": "@jupyter-widgets/controls",
      "_view_module_version": "1.5.0",
      "_view_name": "HBoxView",
      "box_style": "",
      "children": [
       "IPY_MODEL_2d98065fccb34cb1b44740aa4510f0e7",
       "IPY_MODEL_2aa0bc933aae46729672d55e60c17616",
       "IPY_MODEL_950950a569914ad1a263f3f295e57852"
      ],
      "layout": "IPY_MODEL_2f4dcf310c634bdba125e8bf46d3db26"
     }
    },
    "fd22c38d837a404ab892ddaddf4a8988": {
     "model_module": "@jupyter-widgets/controls",
     "model_module_version": "1.5.0",
     "model_name": "HTMLModel",
     "state": {
      "_dom_classes": [],
      "_model_module": "@jupyter-widgets/controls",
      "_model_module_version": "1.5.0",
      "_model_name": "HTMLModel",
      "_view_count": null,
      "_view_module": "@jupyter-widgets/controls",
      "_view_module_version": "1.5.0",
      "_view_name": "HTMLView",
      "description": "",
      "description_tooltip": null,
      "layout": "IPY_MODEL_46204f92abf1414da360d79b4ca7a924",
      "placeholder": "​",
      "style": "IPY_MODEL_0a54156fabcd4ef3b73b038b71485a6a",
      "value": "Validation DataLoader 0: 100%"
     }
    },
    "fde8213392c546b58ad8a81aacf4fcb3": {
     "model_module": "@jupyter-widgets/controls",
     "model_module_version": "1.5.0",
     "model_name": "FloatProgressModel",
     "state": {
      "_dom_classes": [],
      "_model_module": "@jupyter-widgets/controls",
      "_model_module_version": "1.5.0",
      "_model_name": "FloatProgressModel",
      "_view_count": null,
      "_view_module": "@jupyter-widgets/controls",
      "_view_module_version": "1.5.0",
      "_view_name": "ProgressView",
      "bar_style": "",
      "description": "",
      "description_tooltip": null,
      "layout": "IPY_MODEL_58fbdeafd7ee40cd9392cd4a62c49b81",
      "max": 11,
      "min": 0,
      "orientation": "horizontal",
      "style": "IPY_MODEL_286fbf1303dc4f0b9c1bb3cfb34f920e",
      "value": 11
     }
    }
   }
  }
 },
 "nbformat": 4,
 "nbformat_minor": 0
}
